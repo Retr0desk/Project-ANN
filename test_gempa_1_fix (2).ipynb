{
 "cells": [
  {
   "cell_type": "code",
   "execution_count": null,
   "metadata": {
    "id": "GvtXlnur9Rmp"
   },
   "outputs": [],
   "source": [
    "import numpy as np\n",
    "import pandas as pd\n",
    "import matplotlib.pyplot as plt\n",
    "import matplotlib.dates as mdates\n",
    "from sklearn.model_selection import train_test_split\n",
    "from sklearn.preprocessing import MinMaxScaler\n",
    "import tensorflow as tf \n",
    "from keras.models import Sequential, load_model\n",
    "from keras.layers import Dense, Dropout, BatchNormalization\n",
    "from keras.callbacks import ModelCheckpoint\n",
    "from keras.optimizers import Adam"
   ]
  },
  {
   "cell_type": "code",
   "execution_count": null,
   "metadata": {
    "id": "KgowW6Dk--b1"
   },
   "outputs": [],
   "source": [
    "data = pd.read_csv(\"C:\\\\Users\\\\wajit\\\\Documents\\\\GitHub\\\\Project-ANN\\\\2017-2022.csv\", parse_dates=['Tanggal'], date_parser=lambda x: pd.to_datetime(x, format='%d/%m/%Y'))"
   ]
  },
  {
   "cell_type": "code",
   "execution_count": null,
   "metadata": {},
   "outputs": [],
   "source": [
    "print(data)"
   ]
  },
  {
   "cell_type": "code",
   "execution_count": null,
   "metadata": {
    "colab": {
     "base_uri": "https://localhost:8080/",
     "height": 300
    },
    "id": "_IVmNjJiqrXj",
    "outputId": "292f26d7-2b3e-4bd8-8a4e-b1fb6ed54e75"
   },
   "outputs": [],
   "source": [
    "data.describe()"
   ]
  },
  {
   "cell_type": "code",
   "execution_count": null,
   "metadata": {
    "id": "oEB0BwVR8CU2"
   },
   "outputs": [],
   "source": [
    "data['Tanggal'] = pd.to_datetime(data['Tanggal'], format='%H:%M:%S')\n",
    "latitude = data[\"Latitude\"]\n",
    "longitude = data[\"Longitude\"]\n",
    "kedalaman = data[\"Kedalaman (km)\"]\n",
    "magnitude = data[\"Magnitude\"]"
   ]
  },
  {
   "cell_type": "code",
   "execution_count": null,
   "metadata": {},
   "outputs": [],
   "source": [
    "checkpoint = ModelCheckpoint('C:\\\\Users\\\\wajit\\\\Documents\\\\GitHub\\\\Project-ANN\\\\checkpoints\\\\model_1.h5', monitor='val_mae', verbose=1, save_best_only=True)"
   ]
  },
  {
   "cell_type": "code",
   "execution_count": null,
   "metadata": {
    "id": "d2einpvDQoqK"
   },
   "outputs": [],
   "source": [
    "gempa_semua = []\n",
    "for index in range(len(latitude)):\n",
    "  gempa = []\n",
    "  gempa.append(latitude[index])\n",
    "  gempa.append(longitude[index])\n",
    "  gempa.append(kedalaman[index])\n",
    "\n",
    "  gempa_semua.append(gempa)"
   ]
  },
  {
   "cell_type": "code",
   "execution_count": null,
   "metadata": {
    "id": "BFCs6mf6Ucq1"
   },
   "outputs": [],
   "source": [
    "gempa_semua = np.array(gempa_semua)"
   ]
  },
  {
   "cell_type": "code",
   "execution_count": null,
   "metadata": {
    "colab": {
     "base_uri": "https://localhost:8080/"
    },
    "id": "RFpB3zmi-F-F",
    "outputId": "f3edf1c8-d796-451a-c97b-46a4493538f2"
   },
   "outputs": [],
   "source": [
    "print(gempa_semua)"
   ]
  },
  {
   "cell_type": "code",
   "execution_count": null,
   "metadata": {
    "id": "o_3Y7gE6WR_b"
   },
   "outputs": [],
   "source": [
    "magnitude = magnitude.astype('float64')"
   ]
  },
  {
   "cell_type": "code",
   "execution_count": null,
   "metadata": {
    "colab": {
     "base_uri": "https://localhost:8080/"
    },
    "id": "HegHGbmzXq0Y",
    "outputId": "539cf7c1-26af-4afb-9d76-af0fa90211d0"
   },
   "outputs": [],
   "source": [
    "magnitude.dtype"
   ]
  },
  {
   "cell_type": "code",
   "execution_count": null,
   "metadata": {
    "id": "fPRp3n63GZa5"
   },
   "outputs": [],
   "source": [
    "X_train, X_test, y_train, y_test = train_test_split(gempa_semua, magnitude, test_size=0.2, random_state=42)"
   ]
  },
  {
   "cell_type": "code",
   "execution_count": null,
   "metadata": {
    "colab": {
     "base_uri": "https://localhost:8080/"
    },
    "id": "YNr_mzLcUgGV",
    "outputId": "a21fb5f9-7d77-4c3a-98e1-d229bb466777"
   },
   "outputs": [],
   "source": [
    "model = Sequential()\n",
    "model.add(Dense(64, activation='relu', input_shape=(3,),  kernel_initializer='random_uniform'))\n",
    "model.add(Dropout(0.2))\n",
    "model.add(BatchNormalization())\n",
    "model.add(Dense(128, activation='relu'))\n",
    "model.add(Dropout(0.2))\n",
    "model.add(Dense(48, activation='relu'))\n",
    "model.add(Dropout(0.2))\n",
    "model.add(BatchNormalization())\n",
    "model.add(Dense(32, activation='relu'))\n",
    "model.add(Dense(16, activation='relu'))\n",
    "model.add(Dense(8, activation='relu'))\n",
    "model.add(Dense(1, activation='linear'))\n",
    "model.summary()"
   ]
  },
  {
   "cell_type": "code",
   "execution_count": null,
   "metadata": {
    "id": "sKwZrxYqvgIX"
   },
   "outputs": [],
   "source": [
    "optimizer = Adam(learning_rate=0.001)"
   ]
  },
  {
   "cell_type": "code",
   "execution_count": null,
   "metadata": {
    "id": "6GCkYtbFUzua"
   },
   "outputs": [],
   "source": [
    "model.compile(optimizer=optimizer, loss='mse', metrics=['mae'])"
   ]
  },
  {
   "cell_type": "code",
   "execution_count": null,
   "metadata": {
    "colab": {
     "base_uri": "https://localhost:8080/"
    },
    "id": "5rhuK2ArVWl3",
    "outputId": "2cffd290-e14b-4d46-8864-db43a27a27a2"
   },
   "outputs": [],
   "source": [
    "history = model.fit(X_train, y_train, batch_size=64, epochs=3000, verbose=1, validation_data=(X_test, y_test), callbacks=[checkpoint])"
   ]
  },
  {
   "cell_type": "code",
   "execution_count": null,
   "metadata": {
    "colab": {
     "base_uri": "https://localhost:8080/"
    },
    "id": "Zk1cPTIsqeFo",
    "outputId": "491bc190-ff8b-4e4a-8e2f-fd966e88837f"
   },
   "outputs": [],
   "source": [
    "model = load_model(\"C:\\\\Users\\\\wajit\\\\Documents\\\\GitHub\\\\Project-ANN\\\\checkpoints\\\\model_1.h5\")\n",
    "error = model.evaluate(X_test, y_test)[1]\n",
    "error_percentage =error * 100\n",
    "print(\"Loss: \", error_percentage)"
   ]
  },
  {
   "cell_type": "code",
   "execution_count": null,
   "metadata": {},
   "outputs": [],
   "source": [
    "latitude_subset = latitude[:100]\n",
    "longitude_subset = longitude[:100]\n",
    "kedalaman_subset = kedalaman[:100]"
   ]
  },
  {
   "cell_type": "code",
   "execution_count": null,
   "metadata": {
    "scrolled": true
   },
   "outputs": [],
   "source": [
    "count = 0  # Variable to count the number of predicted data\n",
    "predictions = []  # List to store the predicted values\n",
    "\n",
    "for i in range(len(latitude)):\n",
    "    for j in range(len(longitude)):\n",
    "        for k in range(len(kedalaman)):\n",
    "            koordinat_latitude = float(latitude[i])\n",
    "            koordinat_longitude = float(longitude[j])\n",
    "            kedalaman_gempa = float(kedalaman[k])\n",
    "\n",
    "            input_data = np.array([[koordinat_latitude, koordinat_longitude, kedalaman_gempa]])\n",
    "            hasil_prediksi = model.predict(input_data)\n",
    "\n",
    "            # Append the predicted value to the list\n",
    "            predictions.append(hasil_prediksi)\n",
    "\n",
    "            # Increase the count by 1\n",
    "            count += 1\n",
    "\n",
    "            # Print the prediction\n",
    "            print(\"Perkiraan kekuatan gempa {} Mg\".format(hasil_prediksi))\n",
    "\n",
    "            if count == 6149:\n",
    "                break\n",
    "        else:\n",
    "            continue\n",
    "        break\n",
    "    else:\n",
    "        continue\n",
    "    break\n",
    "\n",
    "# Convert the list of predictions to a NumPy array\n",
    "predictions = np.array(predictions)\n",
    "\n",
    "print(\"Banyaknya data yang diprediksi:\", count)\n"
   ]
  },
  {
   "cell_type": "code",
   "execution_count": null,
   "metadata": {
    "colab": {
     "base_uri": "https://localhost:8080/"
    },
    "id": "jqFfM1YBXXrE",
    "outputId": "741ff624-bbf4-459a-cda9-4313b910b8f2"
   },
   "outputs": [],
   "source": [
    "#koordinat_latitude = float(input(\"Masukkan koordinat latitude anda : \"))\n",
    "#koordinat_longitude = float(input(\"Masukkan koordinat longitude anda: \"))\n",
    "#kedalaman_gempa = float(input(\"Masukkan Kedalaman Gempa dalam (Km): \"))"
   ]
  },
  {
   "cell_type": "code",
   "execution_count": null,
   "metadata": {
    "colab": {
     "base_uri": "https://localhost:8080/"
    },
    "id": "jxYN8NElZK4h",
    "outputId": "90d80095-d5dc-4e63-8383-ecdeb923201c"
   },
   "outputs": [],
   "source": [
    "#prediksi_gempa = model.predict([[koordinat_latitude, koordinat_longitude, kedalaman_gempa]])\n",
    "#print(\"Perkiraan kekuatan gempa {} Mg\".format(prediksi_gempa))"
   ]
  },
  {
   "cell_type": "code",
   "execution_count": null,
   "metadata": {},
   "outputs": [],
   "source": [
    "print(predictions)"
   ]
  },
  {
   "cell_type": "code",
   "execution_count": null,
   "metadata": {},
   "outputs": [],
   "source": [
    "flattened_array = predictions.flatten()"
   ]
  },
  {
   "cell_type": "code",
   "execution_count": null,
   "metadata": {},
   "outputs": [],
   "source": [
    "magnitude_subset = magnitude[:100]"
   ]
  },
  {
   "cell_type": "code",
   "execution_count": null,
   "metadata": {},
   "outputs": [],
   "source": [
    "x = data['Tanggal']\n",
    "y_data_asli = magnitude\n",
    "y_data_forecasted = flattened_array"
   ]
  },
  {
   "cell_type": "code",
   "execution_count": null,
   "metadata": {},
   "outputs": [],
   "source": [
    "plt.plot(x, y_data_asli, label='Data Asli')\n",
    "plt.plot(x, y_data_forecasted, label='Hasil Pelatihan')\n",
    "plt.xlabel('Time')\n",
    "plt.ylabel('magnitude')\n",
    "plt.title('Data Asli vs Hasil Pelatihan')\n",
    "plt.gca().xaxis.set_major_locator(mdates.AutoDateLocator())\n",
    "plt.legend()\n",
    "plt.show()"
   ]
  },
  {
   "cell_type": "code",
   "execution_count": null,
   "metadata": {},
   "outputs": [],
   "source": [
    "plt.plot(history.history['mae'])\n",
    "plt.plot(history.history['val_mae'])\n",
    "plt.xlabel('epochs')\n",
    "plt.ylabel('error')\n",
    "plt.title('Perbandingan')\n",
    "plt.gca().xaxis.set_major_locator(mdates.AutoDateLocator())\n",
    "plt.legend(['Original', 'Forecast'], loc='upper right')\n",
    "plt.show()"
   ]
  },
  {
   "cell_type": "code",
   "execution_count": null,
   "metadata": {},
   "outputs": [],
   "source": []
  }
 ],
 "metadata": {
  "colab": {
   "provenance": []
  },
  "kernelspec": {
   "display_name": "Python 3 (ipykernel)",
   "language": "python",
   "name": "python3"
  },
  "language_info": {
   "codemirror_mode": {
    "name": "ipython",
    "version": 3
   },
   "file_extension": ".py",
   "mimetype": "text/x-python",
   "name": "python",
   "nbconvert_exporter": "python",
   "pygments_lexer": "ipython3",
   "version": "3.11.2"
  }
 },
 "nbformat": 4,
 "nbformat_minor": 1
}
