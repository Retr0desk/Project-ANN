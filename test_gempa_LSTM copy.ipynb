{
 "cells": [
  {
   "cell_type": "code",
   "execution_count": 325,
   "metadata": {},
   "outputs": [],
   "source": [
    "import numpy as np\n",
    "import pandas as pd\n",
    "import matplotlib.pyplot as plt\n",
    "import matplotlib.dates as mdates\n",
    "import seaborn as sns\n",
    "from sklearn.model_selection import train_test_split\n",
    "from sklearn.preprocessing import MinMaxScaler\n",
    "from sklearn.preprocessing import StandardScaler\n",
    "import tensorflow as tf \n",
    "from keras.models import Sequential, load_model\n",
    "from keras.layers import Dense, Dropout, LSTM\n",
    "from keras.callbacks import ModelCheckpoint\n",
    "from keras.optimizers import Adam"
   ]
  },
  {
   "cell_type": "code",
   "execution_count": 326,
   "metadata": {},
   "outputs": [],
   "source": [
    "dataset = pd.read_csv(\"C:\\\\Users\\\\wajit\\\\Documents\\\\GitHub\\\\Project-ANN\\\\2017-2022clean.csv\")"
   ]
  },
  {
   "cell_type": "code",
   "execution_count": 327,
   "metadata": {},
   "outputs": [],
   "source": [
    "checkpoint = ModelCheckpoint('C:\\\\Users\\\\wajit\\\\Documents\\\\GitHub\\\\Project-ANN\\\\checkpoints\\\\model_4.h5', monitor='val_loss', verbose=1, save_best_only=True)"
   ]
  },
  {
   "cell_type": "code",
   "execution_count": 328,
   "metadata": {},
   "outputs": [
    {
     "name": "stdout",
     "output_type": "stream",
     "text": [
      "        Datetime  Latitude   Longitude  Kedalaman (km)  Magnitude Type  \\\n",
      "0     2017-01-25   -5.3000  113.493398              12        0.0  NaN   \n",
      "1     2017-01-26   -7.9900  111.200000              10        3.2  MLv   \n",
      "2     2017-01-27    0.4000  118.729166              12        0.0  NaN   \n",
      "3     2017-01-28   -9.4400  113.060000              10        4.7    M   \n",
      "4     2017-01-29   -9.7300  112.870000              10        4.9  MLv   \n",
      "...          ...       ...         ...             ...        ...  ...   \n",
      "2153  2022-12-27   -7.8601  110.529800              13        1.3  MLv   \n",
      "2154  2022-12-28   -8.8718  112.456500              44        3.2  MLv   \n",
      "2155  2022-12-29   -9.0316  112.148100              10        3.2  MLv   \n",
      "2156  2022-12-30  -10.2996  113.280300              10        3.6  MLv   \n",
      "2157  2022-12-31  -10.2996  113.280300              10        3.6  MLv   \n",
      "\n",
      "                                             Keterangan Dirasakan    M    D  \\\n",
      "0                                                   NaN       NaN  NaN  NaN   \n",
      "1     Pusat gempa di darat 20 km Tenggara WONOGIRI-J...     TIDAK   M3   D1   \n",
      "2                                                   NaN       NaN  NaN  NaN   \n",
      "3      Pusat gempa di laut 138 km Tenggara MALANG-JATIM     TIDAK   M4   D1   \n",
      "4     Pusat gempa di laut 166 km tenggara Kab. Malan...     TIDAK   M4   D1   \n",
      "...                                                 ...       ...  ...  ...   \n",
      "2153          Pusat gempa di darat 13 km Tenggara Tegal     TIDAK   M1   D1   \n",
      "2154          Pusat gempa di laut 92 km Tenggara Blitar     TIDAK   M3   D1   \n",
      "2155          Pusat gempa di laut 103 km Selatan Blitar     TIDAK   M3   D1   \n",
      "2156        Pusat gempa di laut 241 km BaratDaya Jember     TIDAK   M3   D1   \n",
      "2157        Pusat gempa di laut 241 km BaratDaya Jember     TIDAK   M4   D2   \n",
      "\n",
      "        MD  \n",
      "0      NaN  \n",
      "1     M3D1  \n",
      "2      NaN  \n",
      "3     M4D1  \n",
      "4     M4D1  \n",
      "...    ...  \n",
      "2153  M1D1  \n",
      "2154  M3D1  \n",
      "2155  M3D1  \n",
      "2156  M3D1  \n",
      "2157  M3D2  \n",
      "\n",
      "[2158 rows x 11 columns]\n"
     ]
    }
   ],
   "source": [
    "print(dataset)"
   ]
  },
  {
   "cell_type": "code",
   "execution_count": 329,
   "metadata": {},
   "outputs": [],
   "source": [
    "train_dates = pd.to_datetime(dataset['Datetime'])"
   ]
  },
  {
   "cell_type": "code",
   "execution_count": 330,
   "metadata": {},
   "outputs": [],
   "source": [
    "data = dataset[['Latitude', 'Longitude', 'Kedalaman (km)', 'Magnitude']]\n",
    "values = data.values\n",
    "values = values.astype('float64')"
   ]
  },
  {
   "cell_type": "code",
   "execution_count": 331,
   "metadata": {},
   "outputs": [
    {
     "data": {
      "text/plain": [
       "dtype('float64')"
      ]
     },
     "execution_count": 331,
     "metadata": {},
     "output_type": "execute_result"
    }
   ],
   "source": [
    "values.dtype"
   ]
  },
  {
   "cell_type": "code",
   "execution_count": 332,
   "metadata": {},
   "outputs": [],
   "source": [
    "scaler = MinMaxScaler(feature_range=(0, 1))\n",
    "scaled = scaler.fit_transform(values)"
   ]
  },
  {
   "cell_type": "code",
   "execution_count": 333,
   "metadata": {},
   "outputs": [],
   "source": [
    "data_for_training = data[['Latitude', 'Longitude', 'Kedalaman (km)', 'Magnitude']].astype(float)"
   ]
  },
  {
   "cell_type": "code",
   "execution_count": 334,
   "metadata": {},
   "outputs": [],
   "source": [
    "scaler = StandardScaler()\n",
    "scaler = scaler.fit(data_for_training)\n",
    "data_for_training_scaled = scaler.transform(data_for_training)"
   ]
  },
  {
   "cell_type": "code",
   "execution_count": 335,
   "metadata": {},
   "outputs": [],
   "source": [
    "train_X = []\n",
    "train_y = []"
   ]
  },
  {
   "cell_type": "code",
   "execution_count": 336,
   "metadata": {},
   "outputs": [],
   "source": [
    "n_future = 1\n",
    "n_past = 30\n",
    "\n",
    "for i in range(n_past, len(data_for_training_scaled) - n_future +1):\n",
    "    train_X.append(data_for_training_scaled[i - n_past:i, 0:data_for_training.shape[1]])\n",
    "    train_y.append(data_for_training_scaled[i + n_future - 1:i + n_future, 0])"
   ]
  },
  {
   "cell_type": "code",
   "execution_count": 337,
   "metadata": {},
   "outputs": [],
   "source": [
    "train_X, train_y = np.array(train_X), np.array(train_y)"
   ]
  },
  {
   "cell_type": "code",
   "execution_count": 338,
   "metadata": {},
   "outputs": [],
   "source": [
    "X_training, X_test, y_training, y_test  = train_test_split(train_X, train_y, test_size=0.2, random_state=42)"
   ]
  },
  {
   "cell_type": "code",
   "execution_count": 339,
   "metadata": {},
   "outputs": [
    {
     "name": "stdout",
     "output_type": "stream",
     "text": [
      "(1702, 30, 4) (1702, 1) (426, 30, 4) (426, 1)\n"
     ]
    }
   ],
   "source": [
    "print(X_training.shape, y_training.shape, X_test.shape, y_test.shape)"
   ]
  },
  {
   "cell_type": "code",
   "execution_count": 340,
   "metadata": {},
   "outputs": [
    {
     "name": "stdout",
     "output_type": "stream",
     "text": [
      "train_X shape ==(2128, 30, 4).\n",
      "train_y shape ==(2128, 1).\n"
     ]
    }
   ],
   "source": [
    "print('train_X shape =={}.'.format(train_X.shape))\n",
    "print('train_y shape =={}.'.format(train_y.shape))"
   ]
  },
  {
   "cell_type": "code",
   "execution_count": 341,
   "metadata": {},
   "outputs": [
    {
     "name": "stdout",
     "output_type": "stream",
     "text": [
      "Model: \"sequential_12\"\n",
      "_________________________________________________________________\n",
      " Layer (type)                Output Shape              Param #   \n",
      "=================================================================\n",
      " lstm_58 (LSTM)              (None, 30, 64)            17664     \n",
      "                                                                 \n",
      " lstm_59 (LSTM)              (None, 30, 48)            21696     \n",
      "                                                                 \n",
      " lstm_60 (LSTM)              (None, 30, 32)            10368     \n",
      "                                                                 \n",
      " lstm_61 (LSTM)              (None, 30, 16)            3136      \n",
      "                                                                 \n",
      " lstm_62 (LSTM)              (None, 16)                2112      \n",
      "                                                                 \n",
      " dense_12 (Dense)            (None, 1)                 17        \n",
      "                                                                 \n",
      "=================================================================\n",
      "Total params: 54,993\n",
      "Trainable params: 54,993\n",
      "Non-trainable params: 0\n",
      "_________________________________________________________________\n"
     ]
    }
   ],
   "source": [
    "model = Sequential()\n",
    "# First LSTM layer with Dropout regularisation\n",
    "model.add(LSTM(units=64, activation='relu', return_sequences=True, input_shape=(train_X.shape[1], train_X.shape[2])))\n",
    "# Third LSTM layer\n",
    "model.add(LSTM(units=48,activation='relu', return_sequences=True))\n",
    "model.add(LSTM(units=32,activation='relu', return_sequences=True))\n",
    "model.add(LSTM(units=16,activation='relu', return_sequences=True))\n",
    "# Fourth LSTM layer\n",
    "model.add(LSTM(units=16, activation='relu'))\n",
    "# The output layer\n",
    "model.add(Dense(units=1, activation='linear'))\n",
    "model.summary()"
   ]
  },
  {
   "cell_type": "code",
   "execution_count": 342,
   "metadata": {},
   "outputs": [],
   "source": [
    "optimizer=Adam(learning_rate=0.003)"
   ]
  },
  {
   "cell_type": "code",
   "execution_count": 343,
   "metadata": {},
   "outputs": [],
   "source": [
    "model.compile(optimizer=optimizer, loss='mse')"
   ]
  },
  {
   "cell_type": "code",
   "execution_count": 344,
   "metadata": {},
   "outputs": [
    {
     "name": "stdout",
     "output_type": "stream",
     "text": [
      "Epoch 1/50\n"
     ]
    },
    {
     "name": "stdout",
     "output_type": "stream",
     "text": [
      "\n",
      "Epoch 1: val_loss improved from inf to 0.89085, saving model to C:\\Users\\wajit\\Documents\\GitHub\\Project-ANN\\checkpoints\\model_4.h5\n",
      "24/24 - 5s - loss: 1.0272 - val_loss: 0.8908 - 5s/epoch - 228ms/step\n",
      "Epoch 2/50\n",
      "\n",
      "Epoch 2: val_loss improved from 0.89085 to 0.88567, saving model to C:\\Users\\wajit\\Documents\\GitHub\\Project-ANN\\checkpoints\\model_4.h5\n",
      "24/24 - 2s - loss: 1.0245 - val_loss: 0.8857 - 2s/epoch - 73ms/step\n",
      "Epoch 3/50\n",
      "\n",
      "Epoch 3: val_loss improved from 0.88567 to 0.88327, saving model to C:\\Users\\wajit\\Documents\\GitHub\\Project-ANN\\checkpoints\\model_4.h5\n",
      "24/24 - 2s - loss: 1.0216 - val_loss: 0.8833 - 2s/epoch - 72ms/step\n",
      "Epoch 4/50\n",
      "\n",
      "Epoch 4: val_loss improved from 0.88327 to 0.87953, saving model to C:\\Users\\wajit\\Documents\\GitHub\\Project-ANN\\checkpoints\\model_4.h5\n",
      "24/24 - 2s - loss: 1.0160 - val_loss: 0.8795 - 2s/epoch - 72ms/step\n",
      "Epoch 5/50\n",
      "\n",
      "Epoch 5: val_loss improved from 0.87953 to 0.86658, saving model to C:\\Users\\wajit\\Documents\\GitHub\\Project-ANN\\checkpoints\\model_4.h5\n",
      "24/24 - 2s - loss: 1.0147 - val_loss: 0.8666 - 2s/epoch - 73ms/step\n",
      "Epoch 6/50\n",
      "\n",
      "Epoch 6: val_loss did not improve from 0.86658\n",
      "24/24 - 2s - loss: 1.0116 - val_loss: 0.8864 - 2s/epoch - 70ms/step\n",
      "Epoch 7/50\n",
      "\n",
      "Epoch 7: val_loss did not improve from 0.86658\n",
      "24/24 - 2s - loss: 1.0169 - val_loss: 0.8730 - 2s/epoch - 70ms/step\n",
      "Epoch 8/50\n",
      "\n",
      "Epoch 8: val_loss improved from 0.86658 to 0.86509, saving model to C:\\Users\\wajit\\Documents\\GitHub\\Project-ANN\\checkpoints\\model_4.h5\n",
      "24/24 - 2s - loss: 1.0105 - val_loss: 0.8651 - 2s/epoch - 73ms/step\n",
      "Epoch 9/50\n",
      "\n",
      "Epoch 9: val_loss did not improve from 0.86509\n",
      "24/24 - 2s - loss: 1.0135 - val_loss: 0.8752 - 2s/epoch - 70ms/step\n",
      "Epoch 10/50\n",
      "\n",
      "Epoch 10: val_loss improved from 0.86509 to 0.86178, saving model to C:\\Users\\wajit\\Documents\\GitHub\\Project-ANN\\checkpoints\\model_4.h5\n",
      "24/24 - 2s - loss: 1.0079 - val_loss: 0.8618 - 2s/epoch - 72ms/step\n",
      "Epoch 11/50\n",
      "\n",
      "Epoch 11: val_loss did not improve from 0.86178\n",
      "24/24 - 2s - loss: 1.0050 - val_loss: 0.8631 - 2s/epoch - 71ms/step\n",
      "Epoch 12/50\n",
      "\n",
      "Epoch 12: val_loss did not improve from 0.86178\n",
      "24/24 - 2s - loss: 1.0197 - val_loss: 0.8739 - 2s/epoch - 70ms/step\n",
      "Epoch 13/50\n",
      "\n",
      "Epoch 13: val_loss did not improve from 0.86178\n",
      "24/24 - 2s - loss: 1.0034 - val_loss: 0.8671 - 2s/epoch - 70ms/step\n",
      "Epoch 14/50\n",
      "\n",
      "Epoch 14: val_loss did not improve from 0.86178\n",
      "24/24 - 2s - loss: 0.9994 - val_loss: 0.8730 - 2s/epoch - 71ms/step\n",
      "Epoch 15/50\n",
      "\n",
      "Epoch 15: val_loss did not improve from 0.86178\n",
      "24/24 - 2s - loss: 0.9984 - val_loss: 0.8689 - 2s/epoch - 70ms/step\n",
      "Epoch 16/50\n",
      "\n",
      "Epoch 16: val_loss did not improve from 0.86178\n",
      "24/24 - 2s - loss: 0.9998 - val_loss: 0.8765 - 2s/epoch - 70ms/step\n",
      "Epoch 17/50\n",
      "\n",
      "Epoch 17: val_loss did not improve from 0.86178\n",
      "24/24 - 2s - loss: 0.9971 - val_loss: 0.8768 - 2s/epoch - 70ms/step\n",
      "Epoch 18/50\n",
      "\n",
      "Epoch 18: val_loss did not improve from 0.86178\n",
      "24/24 - 2s - loss: 0.9925 - val_loss: 0.8722 - 2s/epoch - 70ms/step\n",
      "Epoch 19/50\n",
      "\n",
      "Epoch 19: val_loss did not improve from 0.86178\n",
      "24/24 - 2s - loss: 0.9891 - val_loss: 0.8679 - 2s/epoch - 70ms/step\n",
      "Epoch 20/50\n",
      "\n",
      "Epoch 20: val_loss did not improve from 0.86178\n",
      "24/24 - 2s - loss: 0.9885 - val_loss: 0.8856 - 2s/epoch - 70ms/step\n",
      "Epoch 21/50\n",
      "\n",
      "Epoch 21: val_loss did not improve from 0.86178\n",
      "24/24 - 2s - loss: 0.9943 - val_loss: 0.8698 - 2s/epoch - 70ms/step\n",
      "Epoch 22/50\n"
     ]
    }
   ],
   "source": [
    "history = model.fit(X_training, y_training, epochs=50, batch_size=72, validation_data=(X_test, y_test), verbose=2, callbacks=[checkpoint])"
   ]
  },
  {
   "cell_type": "code",
   "execution_count": null,
   "metadata": {},
   "outputs": [
    {
     "data": {
      "image/png": "[encoded data removed]",
      "text/plain": [
       "<Figure size 640x480 with 1 Axes>"
      ]
     },
     "metadata": {},
     "output_type": "display_data"
    }
   ],
   "source": [
    "plt.plot(history.history['loss'])\n",
    "plt.plot(history.history['val_loss'])\n",
    "plt.title('Model Loss')\n",
    "plt.ylabel('Loss')\n",
    "plt.xlabel('Epoch')\n",
    "plt.legend(['Train', 'Validation'], loc='upper right')\n",
    "plt.show()"
   ]
  },
  {
   "cell_type": "code",
   "execution_count": null,
   "metadata": {},
   "outputs": [
    {
     "name": "stdout",
     "output_type": "stream",
     "text": [
      "14/14 [==============================] - 1s 14ms/step - loss: 0.5734\n",
      "Loss: 0.573443591594696\n"
     ]
    }
   ],
   "source": [
    "model = load_model(\"C:\\\\Users\\\\wajit\\\\Documents\\\\GitHub\\\\Project-ANN\\\\checkpoints\\\\model_4.h5\")\n",
    "loss = model.evaluate(X_test, y_test)\n",
    "print(\"Loss:\", loss)"
   ]
  },
  {
   "cell_type": "code",
   "execution_count": null,
   "metadata": {},
   "outputs": [
    {
     "name": "stdout",
     "output_type": "stream",
     "text": [
      "[Timestamp('2022-12-31 00:00:00'), Timestamp('2023-01-01 00:00:00'), Timestamp('2023-01-02 00:00:00'), Timestamp('2023-01-03 00:00:00'), Timestamp('2023-01-04 00:00:00'), Timestamp('2023-01-05 00:00:00'), Timestamp('2023-01-06 00:00:00'), Timestamp('2023-01-07 00:00:00'), Timestamp('2023-01-08 00:00:00'), Timestamp('2023-01-09 00:00:00'), Timestamp('2023-01-10 00:00:00'), Timestamp('2023-01-11 00:00:00'), Timestamp('2023-01-12 00:00:00'), Timestamp('2023-01-13 00:00:00'), Timestamp('2023-01-14 00:00:00'), Timestamp('2023-01-15 00:00:00'), Timestamp('2023-01-16 00:00:00'), Timestamp('2023-01-17 00:00:00'), Timestamp('2023-01-18 00:00:00'), Timestamp('2023-01-19 00:00:00'), Timestamp('2023-01-20 00:00:00'), Timestamp('2023-01-21 00:00:00'), Timestamp('2023-01-22 00:00:00'), Timestamp('2023-01-23 00:00:00'), Timestamp('2023-01-24 00:00:00'), Timestamp('2023-01-25 00:00:00'), Timestamp('2023-01-26 00:00:00'), Timestamp('2023-01-27 00:00:00'), Timestamp('2023-01-28 00:00:00'), Timestamp('2023-01-29 00:00:00'), Timestamp('2023-01-30 00:00:00'), Timestamp('2023-01-31 00:00:00'), Timestamp('2023-02-01 00:00:00'), Timestamp('2023-02-02 00:00:00'), Timestamp('2023-02-03 00:00:00'), Timestamp('2023-02-04 00:00:00'), Timestamp('2023-02-05 00:00:00'), Timestamp('2023-02-06 00:00:00'), Timestamp('2023-02-07 00:00:00'), Timestamp('2023-02-08 00:00:00'), Timestamp('2023-02-09 00:00:00'), Timestamp('2023-02-10 00:00:00'), Timestamp('2023-02-11 00:00:00'), Timestamp('2023-02-12 00:00:00'), Timestamp('2023-02-13 00:00:00'), Timestamp('2023-02-14 00:00:00'), Timestamp('2023-02-15 00:00:00'), Timestamp('2023-02-16 00:00:00'), Timestamp('2023-02-17 00:00:00'), Timestamp('2023-02-18 00:00:00'), Timestamp('2023-02-19 00:00:00'), Timestamp('2023-02-20 00:00:00'), Timestamp('2023-02-21 00:00:00'), Timestamp('2023-02-22 00:00:00'), Timestamp('2023-02-23 00:00:00'), Timestamp('2023-02-24 00:00:00'), Timestamp('2023-02-25 00:00:00'), Timestamp('2023-02-26 00:00:00'), Timestamp('2023-02-27 00:00:00'), Timestamp('2023-02-28 00:00:00'), Timestamp('2023-03-01 00:00:00'), Timestamp('2023-03-02 00:00:00'), Timestamp('2023-03-03 00:00:00'), Timestamp('2023-03-04 00:00:00'), Timestamp('2023-03-05 00:00:00'), Timestamp('2023-03-06 00:00:00'), Timestamp('2023-03-07 00:00:00'), Timestamp('2023-03-08 00:00:00'), Timestamp('2023-03-09 00:00:00'), Timestamp('2023-03-10 00:00:00'), Timestamp('2023-03-11 00:00:00'), Timestamp('2023-03-12 00:00:00'), Timestamp('2023-03-13 00:00:00'), Timestamp('2023-03-14 00:00:00'), Timestamp('2023-03-15 00:00:00'), Timestamp('2023-03-16 00:00:00'), Timestamp('2023-03-17 00:00:00'), Timestamp('2023-03-18 00:00:00'), Timestamp('2023-03-19 00:00:00'), Timestamp('2023-03-20 00:00:00'), Timestamp('2023-03-21 00:00:00'), Timestamp('2023-03-22 00:00:00'), Timestamp('2023-03-23 00:00:00'), Timestamp('2023-03-24 00:00:00'), Timestamp('2023-03-25 00:00:00'), Timestamp('2023-03-26 00:00:00'), Timestamp('2023-03-27 00:00:00'), Timestamp('2023-03-28 00:00:00'), Timestamp('2023-03-29 00:00:00'), Timestamp('2023-03-30 00:00:00'), Timestamp('2023-03-31 00:00:00'), Timestamp('2023-04-01 00:00:00'), Timestamp('2023-04-02 00:00:00'), Timestamp('2023-04-03 00:00:00'), Timestamp('2023-04-04 00:00:00'), Timestamp('2023-04-05 00:00:00'), Timestamp('2023-04-06 00:00:00'), Timestamp('2023-04-07 00:00:00'), Timestamp('2023-04-08 00:00:00'), Timestamp('2023-04-09 00:00:00'), Timestamp('2023-04-10 00:00:00'), Timestamp('2023-04-11 00:00:00'), Timestamp('2023-04-12 00:00:00'), Timestamp('2023-04-13 00:00:00'), Timestamp('2023-04-14 00:00:00'), Timestamp('2023-04-15 00:00:00'), Timestamp('2023-04-16 00:00:00'), Timestamp('2023-04-17 00:00:00'), Timestamp('2023-04-18 00:00:00'), Timestamp('2023-04-19 00:00:00'), Timestamp('2023-04-20 00:00:00'), Timestamp('2023-04-21 00:00:00'), Timestamp('2023-04-22 00:00:00'), Timestamp('2023-04-23 00:00:00'), Timestamp('2023-04-24 00:00:00'), Timestamp('2023-04-25 00:00:00'), Timestamp('2023-04-26 00:00:00'), Timestamp('2023-04-27 00:00:00'), Timestamp('2023-04-28 00:00:00'), Timestamp('2023-04-29 00:00:00'), Timestamp('2023-04-30 00:00:00'), Timestamp('2023-05-01 00:00:00'), Timestamp('2023-05-02 00:00:00'), Timestamp('2023-05-03 00:00:00'), Timestamp('2023-05-04 00:00:00'), Timestamp('2023-05-05 00:00:00'), Timestamp('2023-05-06 00:00:00'), Timestamp('2023-05-07 00:00:00'), Timestamp('2023-05-08 00:00:00'), Timestamp('2023-05-09 00:00:00'), Timestamp('2023-05-10 00:00:00'), Timestamp('2023-05-11 00:00:00'), Timestamp('2023-05-12 00:00:00'), Timestamp('2023-05-13 00:00:00'), Timestamp('2023-05-14 00:00:00'), Timestamp('2023-05-15 00:00:00'), Timestamp('2023-05-16 00:00:00'), Timestamp('2023-05-17 00:00:00'), Timestamp('2023-05-18 00:00:00'), Timestamp('2023-05-19 00:00:00'), Timestamp('2023-05-20 00:00:00'), Timestamp('2023-05-21 00:00:00'), Timestamp('2023-05-22 00:00:00'), Timestamp('2023-05-23 00:00:00'), Timestamp('2023-05-24 00:00:00'), Timestamp('2023-05-25 00:00:00'), Timestamp('2023-05-26 00:00:00'), Timestamp('2023-05-27 00:00:00'), Timestamp('2023-05-28 00:00:00'), Timestamp('2023-05-29 00:00:00'), Timestamp('2023-05-30 00:00:00'), Timestamp('2023-05-31 00:00:00'), Timestamp('2023-06-01 00:00:00'), Timestamp('2023-06-02 00:00:00'), Timestamp('2023-06-03 00:00:00'), Timestamp('2023-06-04 00:00:00'), Timestamp('2023-06-05 00:00:00'), Timestamp('2023-06-06 00:00:00'), Timestamp('2023-06-07 00:00:00'), Timestamp('2023-06-08 00:00:00'), Timestamp('2023-06-09 00:00:00'), Timestamp('2023-06-10 00:00:00'), Timestamp('2023-06-11 00:00:00'), Timestamp('2023-06-12 00:00:00'), Timestamp('2023-06-13 00:00:00'), Timestamp('2023-06-14 00:00:00'), Timestamp('2023-06-15 00:00:00'), Timestamp('2023-06-16 00:00:00'), Timestamp('2023-06-17 00:00:00'), Timestamp('2023-06-18 00:00:00'), Timestamp('2023-06-19 00:00:00'), Timestamp('2023-06-20 00:00:00'), Timestamp('2023-06-21 00:00:00'), Timestamp('2023-06-22 00:00:00'), Timestamp('2023-06-23 00:00:00'), Timestamp('2023-06-24 00:00:00'), Timestamp('2023-06-25 00:00:00'), Timestamp('2023-06-26 00:00:00'), Timestamp('2023-06-27 00:00:00'), Timestamp('2023-06-28 00:00:00'), Timestamp('2023-06-29 00:00:00'), Timestamp('2023-06-30 00:00:00'), Timestamp('2023-07-01 00:00:00'), Timestamp('2023-07-02 00:00:00'), Timestamp('2023-07-03 00:00:00'), Timestamp('2023-07-04 00:00:00'), Timestamp('2023-07-05 00:00:00'), Timestamp('2023-07-06 00:00:00'), Timestamp('2023-07-07 00:00:00'), Timestamp('2023-07-08 00:00:00'), Timestamp('2023-07-09 00:00:00'), Timestamp('2023-07-10 00:00:00'), Timestamp('2023-07-11 00:00:00'), Timestamp('2023-07-12 00:00:00'), Timestamp('2023-07-13 00:00:00'), Timestamp('2023-07-14 00:00:00'), Timestamp('2023-07-15 00:00:00'), Timestamp('2023-07-16 00:00:00'), Timestamp('2023-07-17 00:00:00'), Timestamp('2023-07-18 00:00:00'), Timestamp('2023-07-19 00:00:00'), Timestamp('2023-07-20 00:00:00'), Timestamp('2023-07-21 00:00:00'), Timestamp('2023-07-22 00:00:00'), Timestamp('2023-07-23 00:00:00'), Timestamp('2023-07-24 00:00:00'), Timestamp('2023-07-25 00:00:00'), Timestamp('2023-07-26 00:00:00'), Timestamp('2023-07-27 00:00:00'), Timestamp('2023-07-28 00:00:00'), Timestamp('2023-07-29 00:00:00'), Timestamp('2023-07-30 00:00:00'), Timestamp('2023-07-31 00:00:00'), Timestamp('2023-08-01 00:00:00'), Timestamp('2023-08-02 00:00:00'), Timestamp('2023-08-03 00:00:00'), Timestamp('2023-08-04 00:00:00'), Timestamp('2023-08-05 00:00:00'), Timestamp('2023-08-06 00:00:00'), Timestamp('2023-08-07 00:00:00'), Timestamp('2023-08-08 00:00:00'), Timestamp('2023-08-09 00:00:00'), Timestamp('2023-08-10 00:00:00'), Timestamp('2023-08-11 00:00:00'), Timestamp('2023-08-12 00:00:00'), Timestamp('2023-08-13 00:00:00'), Timestamp('2023-08-14 00:00:00'), Timestamp('2023-08-15 00:00:00'), Timestamp('2023-08-16 00:00:00'), Timestamp('2023-08-17 00:00:00'), Timestamp('2023-08-18 00:00:00'), Timestamp('2023-08-19 00:00:00'), Timestamp('2023-08-20 00:00:00'), Timestamp('2023-08-21 00:00:00'), Timestamp('2023-08-22 00:00:00'), Timestamp('2023-08-23 00:00:00'), Timestamp('2023-08-24 00:00:00'), Timestamp('2023-08-25 00:00:00'), Timestamp('2023-08-26 00:00:00'), Timestamp('2023-08-27 00:00:00'), Timestamp('2023-08-28 00:00:00'), Timestamp('2023-08-29 00:00:00'), Timestamp('2023-08-30 00:00:00'), Timestamp('2023-08-31 00:00:00'), Timestamp('2023-09-01 00:00:00'), Timestamp('2023-09-02 00:00:00'), Timestamp('2023-09-03 00:00:00'), Timestamp('2023-09-04 00:00:00'), Timestamp('2023-09-05 00:00:00'), Timestamp('2023-09-06 00:00:00'), Timestamp('2023-09-07 00:00:00'), Timestamp('2023-09-08 00:00:00'), Timestamp('2023-09-09 00:00:00'), Timestamp('2023-09-10 00:00:00'), Timestamp('2023-09-11 00:00:00'), Timestamp('2023-09-12 00:00:00'), Timestamp('2023-09-13 00:00:00'), Timestamp('2023-09-14 00:00:00'), Timestamp('2023-09-15 00:00:00'), Timestamp('2023-09-16 00:00:00'), Timestamp('2023-09-17 00:00:00'), Timestamp('2023-09-18 00:00:00'), Timestamp('2023-09-19 00:00:00'), Timestamp('2023-09-20 00:00:00'), Timestamp('2023-09-21 00:00:00'), Timestamp('2023-09-22 00:00:00'), Timestamp('2023-09-23 00:00:00'), Timestamp('2023-09-24 00:00:00'), Timestamp('2023-09-25 00:00:00'), Timestamp('2023-09-26 00:00:00'), Timestamp('2023-09-27 00:00:00'), Timestamp('2023-09-28 00:00:00'), Timestamp('2023-09-29 00:00:00'), Timestamp('2023-09-30 00:00:00'), Timestamp('2023-10-01 00:00:00'), Timestamp('2023-10-02 00:00:00'), Timestamp('2023-10-03 00:00:00'), Timestamp('2023-10-04 00:00:00'), Timestamp('2023-10-05 00:00:00'), Timestamp('2023-10-06 00:00:00'), Timestamp('2023-10-07 00:00:00'), Timestamp('2023-10-08 00:00:00'), Timestamp('2023-10-09 00:00:00'), Timestamp('2023-10-10 00:00:00'), Timestamp('2023-10-11 00:00:00'), Timestamp('2023-10-12 00:00:00'), Timestamp('2023-10-13 00:00:00'), Timestamp('2023-10-14 00:00:00'), Timestamp('2023-10-15 00:00:00'), Timestamp('2023-10-16 00:00:00'), Timestamp('2023-10-17 00:00:00'), Timestamp('2023-10-18 00:00:00'), Timestamp('2023-10-19 00:00:00'), Timestamp('2023-10-20 00:00:00'), Timestamp('2023-10-21 00:00:00'), Timestamp('2023-10-22 00:00:00'), Timestamp('2023-10-23 00:00:00'), Timestamp('2023-10-24 00:00:00'), Timestamp('2023-10-25 00:00:00'), Timestamp('2023-10-26 00:00:00'), Timestamp('2023-10-27 00:00:00'), Timestamp('2023-10-28 00:00:00'), Timestamp('2023-10-29 00:00:00'), Timestamp('2023-10-30 00:00:00'), Timestamp('2023-10-31 00:00:00'), Timestamp('2023-11-01 00:00:00'), Timestamp('2023-11-02 00:00:00'), Timestamp('2023-11-03 00:00:00'), Timestamp('2023-11-04 00:00:00'), Timestamp('2023-11-05 00:00:00'), Timestamp('2023-11-06 00:00:00'), Timestamp('2023-11-07 00:00:00'), Timestamp('2023-11-08 00:00:00'), Timestamp('2023-11-09 00:00:00'), Timestamp('2023-11-10 00:00:00'), Timestamp('2023-11-11 00:00:00'), Timestamp('2023-11-12 00:00:00'), Timestamp('2023-11-13 00:00:00'), Timestamp('2023-11-14 00:00:00'), Timestamp('2023-11-15 00:00:00'), Timestamp('2023-11-16 00:00:00'), Timestamp('2023-11-17 00:00:00'), Timestamp('2023-11-18 00:00:00'), Timestamp('2023-11-19 00:00:00'), Timestamp('2023-11-20 00:00:00'), Timestamp('2023-11-21 00:00:00'), Timestamp('2023-11-22 00:00:00'), Timestamp('2023-11-23 00:00:00'), Timestamp('2023-11-24 00:00:00'), Timestamp('2023-11-25 00:00:00'), Timestamp('2023-11-26 00:00:00'), Timestamp('2023-11-27 00:00:00'), Timestamp('2023-11-28 00:00:00'), Timestamp('2023-11-29 00:00:00'), Timestamp('2023-11-30 00:00:00'), Timestamp('2023-12-01 00:00:00'), Timestamp('2023-12-02 00:00:00'), Timestamp('2023-12-03 00:00:00'), Timestamp('2023-12-04 00:00:00'), Timestamp('2023-12-05 00:00:00'), Timestamp('2023-12-06 00:00:00'), Timestamp('2023-12-07 00:00:00'), Timestamp('2023-12-08 00:00:00'), Timestamp('2023-12-09 00:00:00'), Timestamp('2023-12-10 00:00:00'), Timestamp('2023-12-11 00:00:00'), Timestamp('2023-12-12 00:00:00'), Timestamp('2023-12-13 00:00:00'), Timestamp('2023-12-14 00:00:00'), Timestamp('2023-12-15 00:00:00'), Timestamp('2023-12-16 00:00:00'), Timestamp('2023-12-17 00:00:00'), Timestamp('2023-12-18 00:00:00'), Timestamp('2023-12-19 00:00:00'), Timestamp('2023-12-20 00:00:00'), Timestamp('2023-12-21 00:00:00'), Timestamp('2023-12-22 00:00:00'), Timestamp('2023-12-23 00:00:00'), Timestamp('2023-12-24 00:00:00'), Timestamp('2023-12-25 00:00:00'), Timestamp('2023-12-26 00:00:00'), Timestamp('2023-12-27 00:00:00'), Timestamp('2023-12-28 00:00:00'), Timestamp('2023-12-29 00:00:00'), Timestamp('2023-12-30 00:00:00'), Timestamp('2023-12-31 00:00:00')]\n"
     ]
    }
   ],
   "source": [
    "n_past = 1\n",
    "n_days_for_prediction=366\n",
    "predict_period_dates = pd.date_range(list(train_dates)[-n_past], periods=n_days_for_prediction, freq='1d').tolist()\n",
    "print(predict_period_dates)"
   ]
  },
  {
   "cell_type": "code",
   "execution_count": null,
   "metadata": {},
   "outputs": [
    {
     "name": "stdout",
     "output_type": "stream",
     "text": [
      "12/12 [==============================] - 1s 15ms/step\n"
     ]
    }
   ],
   "source": [
    "prediction = model.predict(X_training[-n_days_for_prediction:])"
   ]
  },
  {
   "cell_type": "code",
   "execution_count": null,
   "metadata": {},
   "outputs": [
    {
     "name": "stdout",
     "output_type": "stream",
     "text": [
      "[[-0.34336612]\n",
      " [-0.3118243 ]\n",
      " [-0.31789333]\n",
      " [-0.33317602]\n",
      " [-0.3360589 ]\n",
      " [-0.32735717]\n",
      " [-0.33953837]\n",
      " [-0.34058955]\n",
      " [-0.30756393]\n",
      " [-0.3444282 ]\n",
      " [-0.35728335]\n",
      " [-0.3259163 ]\n",
      " [-0.33276194]\n",
      " [-0.33691037]\n",
      " [-0.32771254]\n",
      " [-0.31902307]\n",
      " [-0.34722736]\n",
      " [-0.3181069 ]\n",
      " [-0.34352484]\n",
      " [-0.32590377]\n",
      " [-0.32139015]\n",
      " [-0.3130453 ]\n",
      " [-0.31740183]\n",
      " [-0.32824317]\n",
      " [-0.33754107]\n",
      " [-0.3222416 ]\n",
      " [-0.32630402]\n",
      " [-0.33807778]\n",
      " [-0.3433876 ]\n",
      " [-0.34559146]\n",
      " [-0.33497396]\n",
      " [-0.3406551 ]\n",
      " [-0.33944255]\n",
      " [-0.32447204]\n",
      " [-0.33052942]\n",
      " [-0.33111182]\n",
      " [-0.33359686]\n",
      " [-0.3311819 ]\n",
      " [-0.31166604]\n",
      " [-0.3335244 ]\n",
      " [-0.32620436]\n",
      " [-0.32245633]\n",
      " [-0.323888  ]\n",
      " [-0.32592127]\n",
      " [-0.30833647]\n",
      " [-0.3279229 ]\n",
      " [-0.31544903]\n",
      " [-0.32833722]\n",
      " [-0.33223855]\n",
      " [-0.33261272]\n",
      " [-0.31950763]\n",
      " [-0.31533995]\n",
      " [-0.31516653]\n",
      " [-0.33647773]\n",
      " [-0.3534538 ]\n",
      " [-0.31855747]\n",
      " [-0.35714382]\n",
      " [-0.32335925]\n",
      " [-0.33055425]\n",
      " [-0.31353155]\n",
      " [-0.34190378]\n",
      " [-0.34041825]\n",
      " [-0.33378217]\n",
      " [-0.31052038]\n",
      " [-0.346297  ]\n",
      " [-0.32021075]\n",
      " [-0.3415706 ]\n",
      " [-0.35564092]\n",
      " [-0.31496495]\n",
      " [-0.32778817]\n",
      " [-0.33117756]\n",
      " [-0.31482223]\n",
      " [-0.34878403]\n",
      " [-0.31396574]\n",
      " [-0.3377394 ]\n",
      " [-0.34315518]\n",
      " [-0.32845876]\n",
      " [-0.3366094 ]\n",
      " [-0.33166623]\n",
      " [-0.34535354]\n",
      " [-0.35195827]\n",
      " [-0.316362  ]\n",
      " [-0.3593554 ]\n",
      " [-0.3170888 ]\n",
      " [-0.31778017]\n",
      " [-0.33211344]\n",
      " [-0.31613654]\n",
      " [-0.32926393]\n",
      " [-0.3474268 ]\n",
      " [-0.33733165]\n",
      " [-0.35239965]\n",
      " [-0.33943105]\n",
      " [-0.32532722]\n",
      " [-0.33376083]\n",
      " [-0.32803625]\n",
      " [-0.31590888]\n",
      " [-0.34014606]\n",
      " [-0.314945  ]\n",
      " [-0.32301402]\n",
      " [-0.33638176]\n",
      " [-0.34397176]\n",
      " [-0.33301106]\n",
      " [-0.34636346]\n",
      " [-0.30932736]\n",
      " [-0.35131896]\n",
      " [-0.31990415]\n",
      " [-0.32399967]\n",
      " [-0.32925853]\n",
      " [-0.331519  ]\n",
      " [-0.33800575]\n",
      " [-0.3217155 ]\n",
      " [-0.3098862 ]\n",
      " [-0.3380329 ]\n",
      " [-0.3473717 ]\n",
      " [-0.32743955]\n",
      " [-0.30849892]\n",
      " [-0.3404376 ]\n",
      " [-0.3343718 ]\n",
      " [-0.33239385]\n",
      " [-0.3458578 ]\n",
      " [-0.32948223]\n",
      " [-0.33414438]\n",
      " [-0.3465985 ]\n",
      " [-0.331459  ]\n",
      " [-0.3178624 ]\n",
      " [-0.35064584]\n",
      " [-0.31200522]\n",
      " [-0.3232688 ]\n",
      " [-0.3222162 ]\n",
      " [-0.33680055]\n",
      " [-0.32867268]\n",
      " [-0.32696903]\n",
      " [-0.3130517 ]\n",
      " [-0.33105448]\n",
      " [-0.3692522 ]\n",
      " [-0.3290859 ]\n",
      " [-0.33264235]\n",
      " [-0.33039504]\n",
      " [-0.32014534]\n",
      " [-0.31489983]\n",
      " [-0.31809172]\n",
      " [-0.32622135]\n",
      " [-0.31906778]\n",
      " [-0.3596301 ]\n",
      " [-0.34059414]\n",
      " [-0.3315669 ]\n",
      " [-0.33956957]\n",
      " [-0.3433818 ]\n",
      " [-0.33032116]\n",
      " [-0.34323883]\n",
      " [-0.330547  ]\n",
      " [-0.3256595 ]\n",
      " [-0.34064063]\n",
      " [-0.34263593]\n",
      " [-0.33954397]\n",
      " [-0.33426023]\n",
      " [-0.31260955]\n",
      " [-0.33114532]\n",
      " [-0.3260463 ]\n",
      " [-0.3470072 ]\n",
      " [-0.33388695]\n",
      " [-0.32427335]\n",
      " [-0.35049853]\n",
      " [-0.3188263 ]\n",
      " [-0.31021804]\n",
      " [-0.32126912]\n",
      " [-0.32951283]\n",
      " [-0.34355086]\n",
      " [-0.33344686]\n",
      " [-0.33196056]\n",
      " [-0.32833222]\n",
      " [-0.32344964]\n",
      " [-0.31245136]\n",
      " [-0.33691055]\n",
      " [-0.31619942]\n",
      " [-0.32694128]\n",
      " [-0.33790258]\n",
      " [-0.35797217]\n",
      " [-0.33864185]\n",
      " [-0.3192803 ]\n",
      " [-0.33287495]\n",
      " [-0.32497698]\n",
      " [-0.32185695]\n",
      " [-0.32021472]\n",
      " [-0.33693334]\n",
      " [-0.34365416]\n",
      " [-0.33763725]\n",
      " [-0.31823298]\n",
      " [-0.3300984 ]\n",
      " [-0.34998807]\n",
      " [-0.3238546 ]\n",
      " [-0.32997584]\n",
      " [-0.344678  ]\n",
      " [-0.3412064 ]\n",
      " [-0.318721  ]\n",
      " [-0.35131794]\n",
      " [-0.32581475]\n",
      " [-0.31438312]\n",
      " [-0.33672413]\n",
      " [-0.33481404]\n",
      " [-0.33978364]\n",
      " [-0.33455655]\n",
      " [-0.31322384]\n",
      " [-0.32268584]\n",
      " [-0.33088157]\n",
      " [-0.31983727]\n",
      " [-0.34653473]\n",
      " [-0.3185311 ]\n",
      " [-0.36094773]\n",
      " [-0.34718055]\n",
      " [-0.32916278]\n",
      " [-0.3243849 ]\n",
      " [-0.34092894]\n",
      " [-0.32910195]\n",
      " [-0.32529446]\n",
      " [-0.34549436]\n",
      " [-0.33387086]\n",
      " [-0.3404577 ]\n",
      " [-0.3399724 ]\n",
      " [-0.3517391 ]\n",
      " [-0.34391177]\n",
      " [-0.34994197]\n",
      " [-0.3354595 ]\n",
      " [-0.30566043]\n",
      " [-0.34397075]\n",
      " [-0.31742734]\n",
      " [-0.32806906]\n",
      " [-0.32044232]\n",
      " [-0.32140493]\n",
      " [-0.33292365]\n",
      " [-0.3321178 ]\n",
      " [-0.3200046 ]\n",
      " [-0.3250819 ]\n",
      " [-0.35019106]\n",
      " [-0.32018945]\n",
      " [-0.3124742 ]\n",
      " [-0.31715295]\n",
      " [-0.3312935 ]\n",
      " [-0.3205013 ]\n",
      " [-0.3434472 ]\n",
      " [-0.32053813]\n",
      " [-0.33130231]\n",
      " [-0.33094418]\n",
      " [-0.30832204]\n",
      " [-0.32693237]\n",
      " [-0.30588314]\n",
      " [-0.32190642]\n",
      " [-0.35049412]\n",
      " [-0.32002354]\n",
      " [-0.33113033]\n",
      " [-0.33769587]\n",
      " [-0.3284346 ]\n",
      " [-0.31826797]\n",
      " [-0.33174944]\n",
      " [-0.34286222]\n",
      " [-0.3451956 ]\n",
      " [-0.31469807]\n",
      " [-0.33758423]\n",
      " [-0.33523005]\n",
      " [-0.33412778]\n",
      " [-0.33658755]\n",
      " [-0.3396051 ]\n",
      " [-0.3364613 ]\n",
      " [-0.31217897]\n",
      " [-0.3282056 ]\n",
      " [-0.32593074]\n",
      " [-0.35066295]\n",
      " [-0.33155483]\n",
      " [-0.34913135]\n",
      " [-0.35650975]\n",
      " [-0.33638802]\n",
      " [-0.3107241 ]\n",
      " [-0.33479556]\n",
      " [-0.33893588]\n",
      " [-0.33951142]\n",
      " [-0.3322124 ]\n",
      " [-0.34205452]\n",
      " [-0.30984968]\n",
      " [-0.3217785 ]\n",
      " [-0.3216933 ]\n",
      " [-0.32985184]\n",
      " [-0.32423976]\n",
      " [-0.3192179 ]\n",
      " [-0.3278585 ]\n",
      " [-0.35260946]\n",
      " [-0.32152352]\n",
      " [-0.33089766]\n",
      " [-0.32897925]\n",
      " [-0.32321468]\n",
      " [-0.3343925 ]\n",
      " [-0.36411056]\n",
      " [-0.3174389 ]\n",
      " [-0.3232061 ]\n",
      " [-0.33691978]\n",
      " [-0.3282617 ]\n",
      " [-0.33405203]\n",
      " [-0.35766435]\n",
      " [-0.33160865]\n",
      " [-0.330185  ]\n",
      " [-0.34803706]\n",
      " [-0.34796882]\n",
      " [-0.331694  ]\n",
      " [-0.32003188]\n",
      " [-0.32727814]\n",
      " [-0.3609364 ]\n",
      " [-0.33902436]\n",
      " [-0.3398397 ]\n",
      " [-0.34343958]\n",
      " [-0.3171857 ]\n",
      " [-0.35908556]\n",
      " [-0.3313354 ]\n",
      " [-0.32302818]\n",
      " [-0.35099512]\n",
      " [-0.3276511 ]\n",
      " [-0.3339057 ]\n",
      " [-0.34560573]\n",
      " [-0.32064974]\n",
      " [-0.3221882 ]\n",
      " [-0.33060092]\n",
      " [-0.34878677]\n",
      " [-0.35183266]\n",
      " [-0.33978516]\n",
      " [-0.32669976]\n",
      " [-0.33220434]\n",
      " [-0.34021634]\n",
      " [-0.31295785]\n",
      " [-0.3271117 ]\n",
      " [-0.31787056]\n",
      " [-0.32105747]\n",
      " [-0.35315245]\n",
      " [-0.3360608 ]\n",
      " [-0.3471585 ]\n",
      " [-0.33077702]\n",
      " [-0.3141165 ]\n",
      " [-0.31068546]\n",
      " [-0.3418693 ]\n",
      " [-0.3506478 ]\n",
      " [-0.33073866]\n",
      " [-0.32149896]\n",
      " [-0.3281785 ]\n",
      " [-0.3094596 ]\n",
      " [-0.340887  ]\n",
      " [-0.33106187]\n",
      " [-0.33726713]\n",
      " [-0.3411116 ]\n",
      " [-0.3452189 ]\n",
      " [-0.32570684]\n",
      " [-0.3343107 ]\n",
      " [-0.31768867]\n",
      " [-0.34816247]\n",
      " [-0.3195418 ]\n",
      " [-0.30840054]\n",
      " [-0.3254202 ]\n",
      " [-0.3284291 ]\n",
      " [-0.344111  ]\n",
      " [-0.31281695]\n",
      " [-0.31479836]\n",
      " [-0.32365197]\n",
      " [-0.3307938 ]\n",
      " [-0.31034806]\n",
      " [-0.3291598 ]\n",
      " [-0.33098412]\n",
      " [-0.32753646]\n",
      " [-0.34334686]\n",
      " [-0.3124979 ]\n",
      " [-0.312365  ]]\n"
     ]
    }
   ],
   "source": [
    "print(prediction)"
   ]
  },
  {
   "cell_type": "code",
   "execution_count": null,
   "metadata": {},
   "outputs": [],
   "source": [
    "prediction_copies = np.repeat(prediction, data_for_training.shape[1], axis=-1)\n",
    "y_pred_future = scaler.inverse_transform(prediction_copies)[:,-1]\n",
    "y_pred_future = np.abs(y_pred_future)"
   ]
  },
  {
   "cell_type": "code",
   "execution_count": null,
   "metadata": {},
   "outputs": [
    {
     "name": "stderr",
     "output_type": "stream",
     "text": [
      "C:\\Users\\wajit\\AppData\\Local\\Temp\\ipykernel_18236\\1059575106.py:10: SettingWithCopyWarning: \n",
      "A value is trying to be set on a copy of a slice from a DataFrame.\n",
      "Try using .loc[row_indexer,col_indexer] = value instead\n",
      "\n",
      "See the caveats in the documentation: https://pandas.pydata.org/pandas-docs/stable/user_guide/indexing.html#returning-a-view-versus-a-copy\n",
      "  original['Datetime']=pd.to_datetime(original['Datetime'])\n"
     ]
    },
    {
     "data": {
      "text/plain": [
       "<Axes: xlabel='Datetime', ylabel='Magnitude'>"
      ]
     },
     "execution_count": 324,
     "metadata": {},
     "output_type": "execute_result"
    },
    {
     "data": {
      "image/png": "[encoded data removed]",
      "text/plain": [
       "<Figure size 640x480 with 1 Axes>"
      ]
     },
     "metadata": {},
     "output_type": "display_data"
    }
   ],
   "source": [
    "forecast_dates = []\n",
    "for time_i in predict_period_dates:\n",
    "    forecast_dates.append(time_i.date())\n",
    "    \n",
    "df_forecast = pd.DataFrame({'Datetime': np.array(forecast_dates), 'Magnitude': y_pred_future})\n",
    "df_forecast['Datetime'] = pd.to_datetime(df_forecast['Datetime'])\n",
    "\n",
    "\n",
    "original = dataset[['Datetime', 'Magnitude']]\n",
    "original['Datetime']=pd.to_datetime(original['Datetime'])\n",
    "original = original.loc[original['Datetime'] >= '2022-12-1']\n",
    "\n",
    "sns.lineplot(x=original['Datetime'], y=original['Magnitude'])\n",
    "sns.lineplot(x=df_forecast['Datetime'], y=df_forecast['Magnitude'])"
   ]
  },
  {
   "cell_type": "code",
   "execution_count": null,
   "metadata": {},
   "outputs": [],
   "source": []
  }
 ],
 "metadata": {
  "kernelspec": {
   "display_name": "Python 3",
   "language": "python",
   "name": "python3"
  },
  "language_info": {
   "codemirror_mode": {
    "name": "ipython",
    "version": 3
   },
   "file_extension": ".py",
   "mimetype": "text/x-python",
   "name": "python",
   "nbconvert_exporter": "python",
   "pygments_lexer": "ipython3",
   "version": "3.11.2"
  },
  "orig_nbformat": 4
 },
 "nbformat": 4,
 "nbformat_minor": 2
}
