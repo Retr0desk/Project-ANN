{
 "cells": [
  {
   "cell_type": "code",
   "execution_count": 521,
   "metadata": {},
   "outputs": [],
   "source": [
    "import numpy as np\n",
    "import pandas as pd\n",
    "import matplotlib.pyplot as plt\n",
    "import matplotlib.dates as mdates\n",
    "import seaborn as sns\n",
    "from sklearn.model_selection import train_test_split\n",
    "from sklearn.preprocessing import MinMaxScaler\n",
    "from sklearn.preprocessing import StandardScaler\n",
    "import tensorflow as tf \n",
    "from keras.models import Sequential, load_model\n",
    "from keras.layers import Dense, Dropout, LSTM\n",
    "from keras.callbacks import ModelCheckpoint\n",
    "from keras.optimizers import Adam"
   ]
  },
  {
   "cell_type": "code",
   "execution_count": 522,
   "metadata": {},
   "outputs": [],
   "source": [
    "data = pd.read_csv(\"C:\\\\Users\\\\wajit\\\\Documents\\\\GitHub\\\\Project-ANN\\\\2017-2022copy3.csv\")"
   ]
  },
  {
   "cell_type": "code",
   "execution_count": 523,
   "metadata": {},
   "outputs": [],
   "source": [
    "checkpoint = ModelCheckpoint('C:\\\\Users\\\\wajit\\\\Documents\\\\GitHub\\\\Project-ANN\\\\checkpoints\\\\model_4.h5', monitor='val_loss', verbose=1, save_best_only=True)"
   ]
  },
  {
   "cell_type": "code",
   "execution_count": 524,
   "metadata": {},
   "outputs": [
    {
     "name": "stdout",
     "output_type": "stream",
     "text": [
      "         Tanggal OriginTime  Latitude  Longitude  Kedalaman (km)  Magnitude  \\\n",
      "0       1/1/2017   04:58:14   -8.9300   110.0500              10        4.0   \n",
      "1       1/2/2017   21:02:24   -8.9400   108.7500              10        5.3   \n",
      "2       1/3/2017   03:52:37   -8.3900   110.6900              10        3.1   \n",
      "3       1/4/2017   00:44:38   -9.2700   113.4800              10        3.4   \n",
      "4       1/5/2017   20:07:56   -9.8100   111.7500              10        3.2   \n",
      "...          ...        ...       ...        ...             ...        ...   \n",
      "2177  12/27/2022   00:38:27   -7.8601   110.5298              13        1.3   \n",
      "2178  12/28/2022   02:19:49   -8.8718   112.4565              44        3.2   \n",
      "2179  12/29/2022   00:33:56   -9.0316   112.1481              10        3.2   \n",
      "2180  12/30/2022   00:02:38  -10.2996   113.2803              10        3.6   \n",
      "2181  12/31/2022   01:02:38  -10.2996   113.2803              10        3.6   \n",
      "\n",
      "     Type                                         Keterangan Dirasakan   M  \\\n",
      "0     MLv  Pusat gempa di laut, 118 km BaratDaya Bantul D...     TIDAK  M3   \n",
      "1     MLv  Pusat gempa di laut, 140 km Tenggara Pangandar...     TIDAK  M5   \n",
      "2     MLv  Pusat gempa di laut, 40 km Tenggara GUNUNGKIDU...     TIDAK  M3   \n",
      "3     NaN  Pusat gempa di laut 124 km BaratDaya JEMBER-JATIM     TIDAK  M3   \n",
      "4     MLv  Pusat gempa di laut 190 km Tenggara Trenggalek...     TIDAK  M3   \n",
      "...   ...                                                ...       ...  ..   \n",
      "2177  MLv          Pusat gempa di darat 13 km Tenggara Tegal     TIDAK  M1   \n",
      "2178  MLv          Pusat gempa di laut 92 km Tenggara Blitar     TIDAK  M3   \n",
      "2179  MLv          Pusat gempa di laut 103 km Selatan Blitar     TIDAK  M3   \n",
      "2180  MLv        Pusat gempa di laut 241 km BaratDaya Jember     TIDAK  M3   \n",
      "2181  MLv        Pusat gempa di laut 241 km BaratDaya Jember     TIDAK  M4   \n",
      "\n",
      "       D    MD    No  \n",
      "0     D1  M3D1     1  \n",
      "1     D1  M5D1     2  \n",
      "2     D1  M3D1     3  \n",
      "3     D1  M3D1     4  \n",
      "4     D1  M3D1     5  \n",
      "...   ..   ...   ...  \n",
      "2177  D1  M1D1  2178  \n",
      "2178  D1  M3D1  2179  \n",
      "2179  D1  M3D1  2180  \n",
      "2180  D1  M3D1  2181  \n",
      "2181  D2  M3D2  2182  \n",
      "\n",
      "[2182 rows x 13 columns]\n"
     ]
    }
   ],
   "source": [
    "print(data)"
   ]
  },
  {
   "cell_type": "code",
   "execution_count": 525,
   "metadata": {},
   "outputs": [],
   "source": [
    "train_dates = pd.to_datetime(data['Tanggal'])"
   ]
  },
  {
   "cell_type": "code",
   "execution_count": 526,
   "metadata": {},
   "outputs": [],
   "source": [
    "cols = list(data)[2:6]"
   ]
  },
  {
   "cell_type": "code",
   "execution_count": 527,
   "metadata": {},
   "outputs": [
    {
     "name": "stdout",
     "output_type": "stream",
     "text": [
      "['Latitude', 'Longitude', 'Kedalaman (km)', 'Magnitude']\n"
     ]
    }
   ],
   "source": [
    "print(cols)"
   ]
  },
  {
   "cell_type": "code",
   "execution_count": 528,
   "metadata": {},
   "outputs": [],
   "source": [
    "data_for_training = data[cols].astype(float)"
   ]
  },
  {
   "cell_type": "code",
   "execution_count": 529,
   "metadata": {},
   "outputs": [],
   "source": [
    "scaler = StandardScaler()\n",
    "scaler = scaler.fit(data_for_training)\n",
    "data_for_training_scaled = scaler.transform(data_for_training)"
   ]
  },
  {
   "cell_type": "code",
   "execution_count": 530,
   "metadata": {},
   "outputs": [],
   "source": [
    "train_X = []\n",
    "train_y = []"
   ]
  },
  {
   "cell_type": "code",
   "execution_count": 531,
   "metadata": {},
   "outputs": [],
   "source": [
    "n_future = 1\n",
    "n_past = 30\n",
    "\n",
    "for i in range(n_past, len(data_for_training_scaled) - n_future +1):\n",
    "    train_X.append(data_for_training_scaled[i - n_past:i, 0:data_for_training.shape[1]])\n",
    "    train_y.append(data_for_training_scaled[i + n_future - 1:i + n_future, 0])"
   ]
  },
  {
   "cell_type": "code",
   "execution_count": 532,
   "metadata": {},
   "outputs": [],
   "source": [
    "train_X, train_y = np.array(train_X), np.array(train_y)"
   ]
  },
  {
   "cell_type": "code",
   "execution_count": 533,
   "metadata": {},
   "outputs": [],
   "source": [
    "X_valid, X_training, y_valid, y_training = train_test_split(train_X, train_y, test_size=0.2, random_state=42)"
   ]
  },
  {
   "cell_type": "code",
   "execution_count": 534,
   "metadata": {},
   "outputs": [
    {
     "name": "stdout",
     "output_type": "stream",
     "text": [
      "train_X shape ==(2152, 30, 4).\n",
      "train_y shape ==(2152, 1).\n"
     ]
    }
   ],
   "source": [
    "print('train_X shape =={}.'.format(train_X.shape))\n",
    "print('train_y shape =={}.'.format(train_y.shape))"
   ]
  },
  {
   "cell_type": "code",
   "execution_count": 535,
   "metadata": {},
   "outputs": [
    {
     "name": "stdout",
     "output_type": "stream",
     "text": [
      "Model: \"sequential_25\"\n",
      "_________________________________________________________________\n",
      " Layer (type)                Output Shape              Param #   \n",
      "=================================================================\n",
      " lstm_102 (LSTM)             (None, 30, 128)           68096     \n",
      "                                                                 \n",
      " dropout_48 (Dropout)        (None, 30, 128)           0         \n",
      "                                                                 \n",
      " lstm_103 (LSTM)             (None, 30, 64)            49408     \n",
      "                                                                 \n",
      " lstm_104 (LSTM)             (None, 30, 64)            33024     \n",
      "                                                                 \n",
      " lstm_105 (LSTM)             (None, 30, 32)            12416     \n",
      "                                                                 \n",
      " lstm_106 (LSTM)             (None, 16)                3136      \n",
      "                                                                 \n",
      " dropout_49 (Dropout)        (None, 16)                0         \n",
      "                                                                 \n",
      " dense_23 (Dense)            (None, 1)                 17        \n",
      "                                                                 \n",
      "=================================================================\n",
      "Total params: 166,097\n",
      "Trainable params: 166,097\n",
      "Non-trainable params: 0\n",
      "_________________________________________________________________\n"
     ]
    }
   ],
   "source": [
    "model = Sequential()\n",
    "# First LSTM layer with Dropout regularisation\n",
    "model.add(LSTM(units=128, activation='relu', return_sequences=True, input_shape=(train_X.shape[1], train_X.shape[2])))\n",
    "model.add(Dropout(0.2))\n",
    "# Second LSTM layer\n",
    "model.add(LSTM(units=64, activation='relu', return_sequences=True))\n",
    "model.add(LSTM(units=64, activation='relu', return_sequences=True))\n",
    "# Third LSTM layer\n",
    "model.add(LSTM(units=32, activation='relu', return_sequences=True))\n",
    "# Fourth LSTM layer\n",
    "model.add(LSTM(units=16, activation='relu'))\n",
    "model.add(Dropout(0.2))\n",
    "# The output layer\n",
    "model.add(Dense(units=1, activation='linear'))\n",
    "model.summary()"
   ]
  },
  {
   "cell_type": "code",
   "execution_count": 536,
   "metadata": {},
   "outputs": [],
   "source": [
    "optimizer=Adam(learning_rate=0.001)"
   ]
  },
  {
   "cell_type": "code",
   "execution_count": 537,
   "metadata": {},
   "outputs": [],
   "source": [
    "model.compile(optimizer=optimizer, loss='mse')"
   ]
  },
  {
   "cell_type": "code",
   "execution_count": 538,
   "metadata": {},
   "outputs": [
    {
     "name": "stdout",
     "output_type": "stream",
     "text": [
      "Epoch 1/1000\n"
     ]
    },
    {
     "name": "stdout",
     "output_type": "stream",
     "text": [
      "7/7 [==============================] - ETA: 0s - loss: 1.2333\n",
      "Epoch 1: val_loss improved from inf to 0.94393, saving model to C:\\Users\\wajit\\Documents\\GitHub\\Project-ANN\\checkpoints\\model_4.h5\n",
      "7/7 [==============================] - 11s 1s/step - loss: 1.2333 - val_loss: 0.9439\n",
      "Epoch 2/1000\n",
      "7/7 [==============================] - ETA: 0s - loss: 1.2308\n",
      "Epoch 2: val_loss did not improve from 0.94393\n",
      "7/7 [==============================] - 6s 1s/step - loss: 1.2308 - val_loss: 0.9475\n",
      "Epoch 3/1000\n",
      "7/7 [==============================] - ETA: 0s - loss: 1.2234\n",
      "Epoch 3: val_loss did not improve from 0.94393\n",
      "7/7 [==============================] - 6s 988ms/step - loss: 1.2234 - val_loss: 0.9501\n",
      "Epoch 4/1000\n",
      "7/7 [==============================] - ETA: 0s - loss: 1.2243\n",
      "Epoch 4: val_loss did not improve from 0.94393\n",
      "7/7 [==============================] - 6s 999ms/step - loss: 1.2243 - val_loss: 0.9485\n",
      "Epoch 5/1000\n",
      "7/7 [==============================] - ETA: 0s - loss: 1.2206\n",
      "Epoch 5: val_loss did not improve from 0.94393\n",
      "7/7 [==============================] - 6s 982ms/step - loss: 1.2206 - val_loss: 0.9479\n",
      "Epoch 6/1000\n",
      "7/7 [==============================] - ETA: 0s - loss: 1.2212\n",
      "Epoch 6: val_loss did not improve from 0.94393\n",
      "7/7 [==============================] - 6s 1s/step - loss: 1.2212 - val_loss: 0.9517\n",
      "Epoch 7/1000\n",
      "7/7 [==============================] - ETA: 0s - loss: 1.2154\n",
      "Epoch 7: val_loss did not improve from 0.94393\n",
      "7/7 [==============================] - 6s 986ms/step - loss: 1.2154 - val_loss: 0.9547\n",
      "Epoch 8/1000\n",
      "7/7 [==============================] - ETA: 0s - loss: 1.2176\n",
      "Epoch 8: val_loss did not improve from 0.94393\n",
      "7/7 [==============================] - 7s 1s/step - loss: 1.2176 - val_loss: 0.9649\n",
      "Epoch 9/1000\n",
      "7/7 [==============================] - ETA: 0s - loss: 1.2124\n",
      "Epoch 9: val_loss improved from 0.94393 to 0.94193, saving model to C:\\Users\\wajit\\Documents\\GitHub\\Project-ANN\\checkpoints\\model_4.h5\n",
      "7/7 [==============================] - 8s 1s/step - loss: 1.2124 - val_loss: 0.9419\n",
      "Epoch 10/1000\n",
      "7/7 [==============================] - ETA: 0s - loss: 1.2105\n",
      "Epoch 10: val_loss improved from 0.94193 to 0.94114, saving model to C:\\Users\\wajit\\Documents\\GitHub\\Project-ANN\\checkpoints\\model_4.h5\n",
      "7/7 [==============================] - 7s 1s/step - loss: 1.2105 - val_loss: 0.9411\n",
      "Epoch 11/1000\n",
      "7/7 [==============================] - ETA: 0s - loss: 1.2045\n",
      "Epoch 11: val_loss did not improve from 0.94114\n",
      "7/7 [==============================] - 8s 1s/step - loss: 1.2045 - val_loss: 0.9558\n",
      "Epoch 12/1000\n",
      "7/7 [==============================] - ETA: 0s - loss: 1.2101\n",
      "Epoch 12: val_loss improved from 0.94114 to 0.93659, saving model to C:\\Users\\wajit\\Documents\\GitHub\\Project-ANN\\checkpoints\\model_4.h5\n",
      "7/7 [==============================] - 8s 1s/step - loss: 1.2101 - val_loss: 0.9366\n",
      "Epoch 13/1000\n",
      "7/7 [==============================] - ETA: 0s - loss: 1.1970\n",
      "Epoch 13: val_loss did not improve from 0.93659\n",
      "7/7 [==============================] - 7s 1s/step - loss: 1.1970 - val_loss: 0.9394\n",
      "Epoch 14/1000\n",
      "7/7 [==============================] - ETA: 0s - loss: 1.2066\n",
      "Epoch 14: val_loss did not improve from 0.93659\n",
      "7/7 [==============================] - 8s 1s/step - loss: 1.2066 - val_loss: 0.9463\n",
      "Epoch 15/1000\n",
      "7/7 [==============================] - ETA: 0s - loss: 1.2003\n",
      "Epoch 15: val_loss did not improve from 0.93659\n",
      "7/7 [==============================] - 8s 1s/step - loss: 1.2003 - val_loss: 0.9386\n",
      "Epoch 16/1000\n",
      "7/7 [==============================] - ETA: 0s - loss: 1.1970\n",
      "Epoch 16: val_loss did not improve from 0.93659\n",
      "7/7 [==============================] - 7s 1s/step - loss: 1.1970 - val_loss: 0.9420\n",
      "Epoch 17/1000\n",
      "7/7 [==============================] - ETA: 0s - loss: 1.1912\n",
      "Epoch 17: val_loss did not improve from 0.93659\n",
      "7/7 [==============================] - 7s 1s/step - loss: 1.1912 - val_loss: 0.9572\n",
      "Epoch 18/1000\n",
      "7/7 [==============================] - ETA: 0s - loss: 1.1749\n",
      "Epoch 18: val_loss did not improve from 0.93659\n",
      "7/7 [==============================] - 7s 1s/step - loss: 1.1749 - val_loss: 0.9404\n",
      "Epoch 19/1000\n",
      "7/7 [==============================] - ETA: 0s - loss: 1.1976\n",
      "Epoch 19: val_loss did not improve from 0.93659\n",
      "7/7 [==============================] - 7s 1s/step - loss: 1.1976 - val_loss: 0.9487\n",
      "Epoch 20/1000\n",
      "7/7 [==============================] - ETA: 0s - loss: 1.1775\n",
      "Epoch 20: val_loss did not improve from 0.93659\n",
      "7/7 [==============================] - 7s 1s/step - loss: 1.1775 - val_loss: 0.9541\n",
      "Epoch 21/1000\n",
      "7/7 [==============================] - ETA: 0s - loss: 1.1776\n",
      "Epoch 21: val_loss did not improve from 0.93659\n",
      "7/7 [==============================] - 7s 1s/step - loss: 1.1776 - val_loss: 0.9779\n",
      "Epoch 22/1000\n",
      "7/7 [==============================] - ETA: 0s - loss: 1.1426\n",
      "Epoch 22: val_loss did not improve from 0.93659\n",
      "7/7 [==============================] - 7s 1s/step - loss: 1.1426 - val_loss: 0.9762\n",
      "Epoch 23/1000\n",
      "7/7 [==============================] - ETA: 0s - loss: 1.2267\n",
      "Epoch 23: val_loss did not improve from 0.93659\n",
      "7/7 [==============================] - 7s 1s/step - loss: 1.2267 - val_loss: 0.9405\n",
      "Epoch 24/1000\n",
      "7/7 [==============================] - ETA: 0s - loss: 1.2192\n",
      "Epoch 24: val_loss did not improve from 0.93659\n",
      "7/7 [==============================] - 7s 1s/step - loss: 1.2192 - val_loss: 0.9391\n",
      "Epoch 25/1000\n",
      "7/7 [==============================] - ETA: 0s - loss: 1.2098\n",
      "Epoch 25: val_loss did not improve from 0.93659\n",
      "7/7 [==============================] - 7s 1s/step - loss: 1.2098 - val_loss: 0.9451\n",
      "Epoch 26/1000\n",
      "7/7 [==============================] - ETA: 0s - loss: 1.2066\n",
      "Epoch 26: val_loss did not improve from 0.93659\n",
      "7/7 [==============================] - 7s 1s/step - loss: 1.2066 - val_loss: 0.9433\n",
      "Epoch 27/1000\n",
      "7/7 [==============================] - ETA: 0s - loss: 1.1950\n",
      "Epoch 27: val_loss improved from 0.93659 to 0.93433, saving model to C:\\Users\\wajit\\Documents\\GitHub\\Project-ANN\\checkpoints\\model_4.h5\n",
      "7/7 [==============================] - 8s 1s/step - loss: 1.1950 - val_loss: 0.9343\n",
      "Epoch 28/1000\n",
      "7/7 [==============================] - ETA: 0s - loss: 1.1886\n",
      "Epoch 28: val_loss did not improve from 0.93433\n",
      "7/7 [==============================] - 7s 1s/step - loss: 1.1886 - val_loss: 0.9428\n",
      "Epoch 29/1000\n",
      "7/7 [==============================] - ETA: 0s - loss: 1.1737\n",
      "Epoch 29: val_loss did not improve from 0.93433\n",
      "7/7 [==============================] - 7s 1s/step - loss: 1.1737 - val_loss: 0.9561\n",
      "Epoch 30/1000\n",
      "6/7 [========================>.....] - ETA: 0s - loss: 1.2239"
     ]
    },
    {
     "ename": "KeyboardInterrupt",
     "evalue": "",
     "output_type": "error",
     "traceback": [
      "\u001b[1;31m---------------------------------------------------------------------------\u001b[0m",
      "\u001b[1;31mKeyboardInterrupt\u001b[0m                         Traceback (most recent call last)",
      "Cell \u001b[1;32mIn[538], line 1\u001b[0m\n\u001b[1;32m----> 1\u001b[0m history \u001b[39m=\u001b[39m model\u001b[39m.\u001b[39;49mfit(X_training, y_training, epochs\u001b[39m=\u001b[39;49m\u001b[39m1000\u001b[39;49m, batch_size\u001b[39m=\u001b[39;49m\u001b[39m64\u001b[39;49m, validation_data\u001b[39m=\u001b[39;49m(X_valid, y_valid), verbose\u001b[39m=\u001b[39;49m\u001b[39m1\u001b[39;49m, callbacks\u001b[39m=\u001b[39;49m[checkpoint])\n",
      "File \u001b[1;32mc:\\Users\\wajit\\AppData\\Local\\Programs\\Python\\Python311\\Lib\\site-packages\\keras\\utils\\traceback_utils.py:65\u001b[0m, in \u001b[0;36mfilter_traceback.<locals>.error_handler\u001b[1;34m(*args, **kwargs)\u001b[0m\n\u001b[0;32m     63\u001b[0m filtered_tb \u001b[39m=\u001b[39m \u001b[39mNone\u001b[39;00m\n\u001b[0;32m     64\u001b[0m \u001b[39mtry\u001b[39;00m:\n\u001b[1;32m---> 65\u001b[0m     \u001b[39mreturn\u001b[39;00m fn(\u001b[39m*\u001b[39;49margs, \u001b[39m*\u001b[39;49m\u001b[39m*\u001b[39;49mkwargs)\n\u001b[0;32m     66\u001b[0m \u001b[39mexcept\u001b[39;00m \u001b[39mException\u001b[39;00m \u001b[39mas\u001b[39;00m e:\n\u001b[0;32m     67\u001b[0m     filtered_tb \u001b[39m=\u001b[39m _process_traceback_frames(e\u001b[39m.\u001b[39m__traceback__)\n",
      "File \u001b[1;32mc:\\Users\\wajit\\AppData\\Local\\Programs\\Python\\Python311\\Lib\\site-packages\\keras\\engine\\training.py:1685\u001b[0m, in \u001b[0;36mModel.fit\u001b[1;34m(self, x, y, batch_size, epochs, verbose, callbacks, validation_split, validation_data, shuffle, class_weight, sample_weight, initial_epoch, steps_per_epoch, validation_steps, validation_batch_size, validation_freq, max_queue_size, workers, use_multiprocessing)\u001b[0m\n\u001b[0;32m   1677\u001b[0m \u001b[39mwith\u001b[39;00m tf\u001b[39m.\u001b[39mprofiler\u001b[39m.\u001b[39mexperimental\u001b[39m.\u001b[39mTrace(\n\u001b[0;32m   1678\u001b[0m     \u001b[39m\"\u001b[39m\u001b[39mtrain\u001b[39m\u001b[39m\"\u001b[39m,\n\u001b[0;32m   1679\u001b[0m     epoch_num\u001b[39m=\u001b[39mepoch,\n\u001b[1;32m   (...)\u001b[0m\n\u001b[0;32m   1682\u001b[0m     _r\u001b[39m=\u001b[39m\u001b[39m1\u001b[39m,\n\u001b[0;32m   1683\u001b[0m ):\n\u001b[0;32m   1684\u001b[0m     callbacks\u001b[39m.\u001b[39mon_train_batch_begin(step)\n\u001b[1;32m-> 1685\u001b[0m     tmp_logs \u001b[39m=\u001b[39m \u001b[39mself\u001b[39;49m\u001b[39m.\u001b[39;49mtrain_function(iterator)\n\u001b[0;32m   1686\u001b[0m     \u001b[39mif\u001b[39;00m data_handler\u001b[39m.\u001b[39mshould_sync:\n\u001b[0;32m   1687\u001b[0m         context\u001b[39m.\u001b[39masync_wait()\n",
      "File \u001b[1;32mc:\\Users\\wajit\\AppData\\Local\\Programs\\Python\\Python311\\Lib\\site-packages\\tensorflow\\python\\util\\traceback_utils.py:150\u001b[0m, in \u001b[0;36mfilter_traceback.<locals>.error_handler\u001b[1;34m(*args, **kwargs)\u001b[0m\n\u001b[0;32m    148\u001b[0m filtered_tb \u001b[39m=\u001b[39m \u001b[39mNone\u001b[39;00m\n\u001b[0;32m    149\u001b[0m \u001b[39mtry\u001b[39;00m:\n\u001b[1;32m--> 150\u001b[0m   \u001b[39mreturn\u001b[39;00m fn(\u001b[39m*\u001b[39;49margs, \u001b[39m*\u001b[39;49m\u001b[39m*\u001b[39;49mkwargs)\n\u001b[0;32m    151\u001b[0m \u001b[39mexcept\u001b[39;00m \u001b[39mException\u001b[39;00m \u001b[39mas\u001b[39;00m e:\n\u001b[0;32m    152\u001b[0m   filtered_tb \u001b[39m=\u001b[39m _process_traceback_frames(e\u001b[39m.\u001b[39m__traceback__)\n",
      "File \u001b[1;32mc:\\Users\\wajit\\AppData\\Local\\Programs\\Python\\Python311\\Lib\\site-packages\\tensorflow\\python\\eager\\polymorphic_function\\polymorphic_function.py:894\u001b[0m, in \u001b[0;36mFunction.__call__\u001b[1;34m(self, *args, **kwds)\u001b[0m\n\u001b[0;32m    891\u001b[0m compiler \u001b[39m=\u001b[39m \u001b[39m\"\u001b[39m\u001b[39mxla\u001b[39m\u001b[39m\"\u001b[39m \u001b[39mif\u001b[39;00m \u001b[39mself\u001b[39m\u001b[39m.\u001b[39m_jit_compile \u001b[39melse\u001b[39;00m \u001b[39m\"\u001b[39m\u001b[39mnonXla\u001b[39m\u001b[39m\"\u001b[39m\n\u001b[0;32m    893\u001b[0m \u001b[39mwith\u001b[39;00m OptionalXlaContext(\u001b[39mself\u001b[39m\u001b[39m.\u001b[39m_jit_compile):\n\u001b[1;32m--> 894\u001b[0m   result \u001b[39m=\u001b[39m \u001b[39mself\u001b[39;49m\u001b[39m.\u001b[39;49m_call(\u001b[39m*\u001b[39;49margs, \u001b[39m*\u001b[39;49m\u001b[39m*\u001b[39;49mkwds)\n\u001b[0;32m    896\u001b[0m new_tracing_count \u001b[39m=\u001b[39m \u001b[39mself\u001b[39m\u001b[39m.\u001b[39mexperimental_get_tracing_count()\n\u001b[0;32m    897\u001b[0m without_tracing \u001b[39m=\u001b[39m (tracing_count \u001b[39m==\u001b[39m new_tracing_count)\n",
      "File \u001b[1;32mc:\\Users\\wajit\\AppData\\Local\\Programs\\Python\\Python311\\Lib\\site-packages\\tensorflow\\python\\eager\\polymorphic_function\\polymorphic_function.py:926\u001b[0m, in \u001b[0;36mFunction._call\u001b[1;34m(self, *args, **kwds)\u001b[0m\n\u001b[0;32m    923\u001b[0m   \u001b[39mself\u001b[39m\u001b[39m.\u001b[39m_lock\u001b[39m.\u001b[39mrelease()\n\u001b[0;32m    924\u001b[0m   \u001b[39m# In this case we have created variables on the first call, so we run the\u001b[39;00m\n\u001b[0;32m    925\u001b[0m   \u001b[39m# defunned version which is guaranteed to never create variables.\u001b[39;00m\n\u001b[1;32m--> 926\u001b[0m   \u001b[39mreturn\u001b[39;00m \u001b[39mself\u001b[39;49m\u001b[39m.\u001b[39;49m_no_variable_creation_fn(\u001b[39m*\u001b[39;49margs, \u001b[39m*\u001b[39;49m\u001b[39m*\u001b[39;49mkwds)  \u001b[39m# pylint: disable=not-callable\u001b[39;00m\n\u001b[0;32m    927\u001b[0m \u001b[39melif\u001b[39;00m \u001b[39mself\u001b[39m\u001b[39m.\u001b[39m_variable_creation_fn \u001b[39mis\u001b[39;00m \u001b[39mnot\u001b[39;00m \u001b[39mNone\u001b[39;00m:\n\u001b[0;32m    928\u001b[0m   \u001b[39m# Release the lock early so that multiple threads can perform the call\u001b[39;00m\n\u001b[0;32m    929\u001b[0m   \u001b[39m# in parallel.\u001b[39;00m\n\u001b[0;32m    930\u001b[0m   \u001b[39mself\u001b[39m\u001b[39m.\u001b[39m_lock\u001b[39m.\u001b[39mrelease()\n",
      "File \u001b[1;32mc:\\Users\\wajit\\AppData\\Local\\Programs\\Python\\Python311\\Lib\\site-packages\\tensorflow\\python\\eager\\polymorphic_function\\tracing_compiler.py:143\u001b[0m, in \u001b[0;36mTracingCompiler.__call__\u001b[1;34m(self, *args, **kwargs)\u001b[0m\n\u001b[0;32m    140\u001b[0m \u001b[39mwith\u001b[39;00m \u001b[39mself\u001b[39m\u001b[39m.\u001b[39m_lock:\n\u001b[0;32m    141\u001b[0m   (concrete_function,\n\u001b[0;32m    142\u001b[0m    filtered_flat_args) \u001b[39m=\u001b[39m \u001b[39mself\u001b[39m\u001b[39m.\u001b[39m_maybe_define_function(args, kwargs)\n\u001b[1;32m--> 143\u001b[0m \u001b[39mreturn\u001b[39;00m concrete_function\u001b[39m.\u001b[39;49m_call_flat(\n\u001b[0;32m    144\u001b[0m     filtered_flat_args, captured_inputs\u001b[39m=\u001b[39;49mconcrete_function\u001b[39m.\u001b[39;49mcaptured_inputs)\n",
      "File \u001b[1;32mc:\\Users\\wajit\\AppData\\Local\\Programs\\Python\\Python311\\Lib\\site-packages\\tensorflow\\python\\eager\\polymorphic_function\\monomorphic_function.py:1757\u001b[0m, in \u001b[0;36mConcreteFunction._call_flat\u001b[1;34m(self, args, captured_inputs, cancellation_manager)\u001b[0m\n\u001b[0;32m   1753\u001b[0m possible_gradient_type \u001b[39m=\u001b[39m gradients_util\u001b[39m.\u001b[39mPossibleTapeGradientTypes(args)\n\u001b[0;32m   1754\u001b[0m \u001b[39mif\u001b[39;00m (possible_gradient_type \u001b[39m==\u001b[39m gradients_util\u001b[39m.\u001b[39mPOSSIBLE_GRADIENT_TYPES_NONE\n\u001b[0;32m   1755\u001b[0m     \u001b[39mand\u001b[39;00m executing_eagerly):\n\u001b[0;32m   1756\u001b[0m   \u001b[39m# No tape is watching; skip to running the function.\u001b[39;00m\n\u001b[1;32m-> 1757\u001b[0m   \u001b[39mreturn\u001b[39;00m \u001b[39mself\u001b[39m\u001b[39m.\u001b[39m_build_call_outputs(\u001b[39mself\u001b[39;49m\u001b[39m.\u001b[39;49m_inference_function\u001b[39m.\u001b[39;49mcall(\n\u001b[0;32m   1758\u001b[0m       ctx, args, cancellation_manager\u001b[39m=\u001b[39;49mcancellation_manager))\n\u001b[0;32m   1759\u001b[0m forward_backward \u001b[39m=\u001b[39m \u001b[39mself\u001b[39m\u001b[39m.\u001b[39m_select_forward_and_backward_functions(\n\u001b[0;32m   1760\u001b[0m     args,\n\u001b[0;32m   1761\u001b[0m     possible_gradient_type,\n\u001b[0;32m   1762\u001b[0m     executing_eagerly)\n\u001b[0;32m   1763\u001b[0m forward_function, args_with_tangents \u001b[39m=\u001b[39m forward_backward\u001b[39m.\u001b[39mforward()\n",
      "File \u001b[1;32mc:\\Users\\wajit\\AppData\\Local\\Programs\\Python\\Python311\\Lib\\site-packages\\tensorflow\\python\\eager\\polymorphic_function\\monomorphic_function.py:381\u001b[0m, in \u001b[0;36m_EagerDefinedFunction.call\u001b[1;34m(self, ctx, args, cancellation_manager)\u001b[0m\n\u001b[0;32m    379\u001b[0m \u001b[39mwith\u001b[39;00m _InterpolateFunctionError(\u001b[39mself\u001b[39m):\n\u001b[0;32m    380\u001b[0m   \u001b[39mif\u001b[39;00m cancellation_manager \u001b[39mis\u001b[39;00m \u001b[39mNone\u001b[39;00m:\n\u001b[1;32m--> 381\u001b[0m     outputs \u001b[39m=\u001b[39m execute\u001b[39m.\u001b[39;49mexecute(\n\u001b[0;32m    382\u001b[0m         \u001b[39mstr\u001b[39;49m(\u001b[39mself\u001b[39;49m\u001b[39m.\u001b[39;49msignature\u001b[39m.\u001b[39;49mname),\n\u001b[0;32m    383\u001b[0m         num_outputs\u001b[39m=\u001b[39;49m\u001b[39mself\u001b[39;49m\u001b[39m.\u001b[39;49m_num_outputs,\n\u001b[0;32m    384\u001b[0m         inputs\u001b[39m=\u001b[39;49margs,\n\u001b[0;32m    385\u001b[0m         attrs\u001b[39m=\u001b[39;49mattrs,\n\u001b[0;32m    386\u001b[0m         ctx\u001b[39m=\u001b[39;49mctx)\n\u001b[0;32m    387\u001b[0m   \u001b[39melse\u001b[39;00m:\n\u001b[0;32m    388\u001b[0m     outputs \u001b[39m=\u001b[39m execute\u001b[39m.\u001b[39mexecute_with_cancellation(\n\u001b[0;32m    389\u001b[0m         \u001b[39mstr\u001b[39m(\u001b[39mself\u001b[39m\u001b[39m.\u001b[39msignature\u001b[39m.\u001b[39mname),\n\u001b[0;32m    390\u001b[0m         num_outputs\u001b[39m=\u001b[39m\u001b[39mself\u001b[39m\u001b[39m.\u001b[39m_num_outputs,\n\u001b[1;32m   (...)\u001b[0m\n\u001b[0;32m    393\u001b[0m         ctx\u001b[39m=\u001b[39mctx,\n\u001b[0;32m    394\u001b[0m         cancellation_manager\u001b[39m=\u001b[39mcancellation_manager)\n",
      "File \u001b[1;32mc:\\Users\\wajit\\AppData\\Local\\Programs\\Python\\Python311\\Lib\\site-packages\\tensorflow\\python\\eager\\execute.py:52\u001b[0m, in \u001b[0;36mquick_execute\u001b[1;34m(op_name, num_outputs, inputs, attrs, ctx, name)\u001b[0m\n\u001b[0;32m     50\u001b[0m \u001b[39mtry\u001b[39;00m:\n\u001b[0;32m     51\u001b[0m   ctx\u001b[39m.\u001b[39mensure_initialized()\n\u001b[1;32m---> 52\u001b[0m   tensors \u001b[39m=\u001b[39m pywrap_tfe\u001b[39m.\u001b[39;49mTFE_Py_Execute(ctx\u001b[39m.\u001b[39;49m_handle, device_name, op_name,\n\u001b[0;32m     53\u001b[0m                                       inputs, attrs, num_outputs)\n\u001b[0;32m     54\u001b[0m \u001b[39mexcept\u001b[39;00m core\u001b[39m.\u001b[39m_NotOkStatusException \u001b[39mas\u001b[39;00m e:\n\u001b[0;32m     55\u001b[0m   \u001b[39mif\u001b[39;00m name \u001b[39mis\u001b[39;00m \u001b[39mnot\u001b[39;00m \u001b[39mNone\u001b[39;00m:\n",
      "\u001b[1;31mKeyboardInterrupt\u001b[0m: "
     ]
    }
   ],
   "source": [
    "history = model.fit(X_training, y_training, epochs=1000, batch_size=64, validation_data=(X_valid, y_valid), verbose=1, callbacks=[checkpoint])"
   ]
  },
  {
   "cell_type": "code",
   "execution_count": null,
   "metadata": {},
   "outputs": [
    {
     "name": "stdout",
     "output_type": "stream",
     "text": [
      "54/54 [==============================] - 2s 30ms/step - loss: 0.9308\n",
      "Loss: 0.9308082461357117\n"
     ]
    }
   ],
   "source": [
    "model = load_model(\"C:\\\\Users\\\\wajit\\\\Documents\\\\GitHub\\\\Project-ANN\\\\checkpoints\\\\model_4.h5\")\n",
    "loss = model.evaluate(X_valid, y_valid)\n",
    "print(\"Loss:\", loss)"
   ]
  },
  {
   "cell_type": "code",
   "execution_count": null,
   "metadata": {},
   "outputs": [
    {
     "name": "stdout",
     "output_type": "stream",
     "text": [
      "[Timestamp('2022-12-31 00:00:00'), Timestamp('2023-01-01 00:00:00'), Timestamp('2023-01-02 00:00:00'), Timestamp('2023-01-03 00:00:00'), Timestamp('2023-01-04 00:00:00'), Timestamp('2023-01-05 00:00:00'), Timestamp('2023-01-06 00:00:00'), Timestamp('2023-01-07 00:00:00'), Timestamp('2023-01-08 00:00:00'), Timestamp('2023-01-09 00:00:00'), Timestamp('2023-01-10 00:00:00'), Timestamp('2023-01-11 00:00:00'), Timestamp('2023-01-12 00:00:00'), Timestamp('2023-01-13 00:00:00'), Timestamp('2023-01-14 00:00:00'), Timestamp('2023-01-15 00:00:00'), Timestamp('2023-01-16 00:00:00'), Timestamp('2023-01-17 00:00:00'), Timestamp('2023-01-18 00:00:00'), Timestamp('2023-01-19 00:00:00'), Timestamp('2023-01-20 00:00:00'), Timestamp('2023-01-21 00:00:00'), Timestamp('2023-01-22 00:00:00'), Timestamp('2023-01-23 00:00:00'), Timestamp('2023-01-24 00:00:00'), Timestamp('2023-01-25 00:00:00'), Timestamp('2023-01-26 00:00:00'), Timestamp('2023-01-27 00:00:00'), Timestamp('2023-01-28 00:00:00'), Timestamp('2023-01-29 00:00:00'), Timestamp('2023-01-30 00:00:00'), Timestamp('2023-01-31 00:00:00'), Timestamp('2023-02-01 00:00:00'), Timestamp('2023-02-02 00:00:00'), Timestamp('2023-02-03 00:00:00'), Timestamp('2023-02-04 00:00:00'), Timestamp('2023-02-05 00:00:00'), Timestamp('2023-02-06 00:00:00'), Timestamp('2023-02-07 00:00:00'), Timestamp('2023-02-08 00:00:00'), Timestamp('2023-02-09 00:00:00'), Timestamp('2023-02-10 00:00:00'), Timestamp('2023-02-11 00:00:00'), Timestamp('2023-02-12 00:00:00'), Timestamp('2023-02-13 00:00:00'), Timestamp('2023-02-14 00:00:00'), Timestamp('2023-02-15 00:00:00'), Timestamp('2023-02-16 00:00:00'), Timestamp('2023-02-17 00:00:00'), Timestamp('2023-02-18 00:00:00'), Timestamp('2023-02-19 00:00:00'), Timestamp('2023-02-20 00:00:00'), Timestamp('2023-02-21 00:00:00'), Timestamp('2023-02-22 00:00:00'), Timestamp('2023-02-23 00:00:00'), Timestamp('2023-02-24 00:00:00'), Timestamp('2023-02-25 00:00:00'), Timestamp('2023-02-26 00:00:00'), Timestamp('2023-02-27 00:00:00'), Timestamp('2023-02-28 00:00:00'), Timestamp('2023-03-01 00:00:00'), Timestamp('2023-03-02 00:00:00'), Timestamp('2023-03-03 00:00:00'), Timestamp('2023-03-04 00:00:00'), Timestamp('2023-03-05 00:00:00'), Timestamp('2023-03-06 00:00:00'), Timestamp('2023-03-07 00:00:00'), Timestamp('2023-03-08 00:00:00'), Timestamp('2023-03-09 00:00:00'), Timestamp('2023-03-10 00:00:00'), Timestamp('2023-03-11 00:00:00'), Timestamp('2023-03-12 00:00:00'), Timestamp('2023-03-13 00:00:00'), Timestamp('2023-03-14 00:00:00'), Timestamp('2023-03-15 00:00:00'), Timestamp('2023-03-16 00:00:00'), Timestamp('2023-03-17 00:00:00'), Timestamp('2023-03-18 00:00:00'), Timestamp('2023-03-19 00:00:00'), Timestamp('2023-03-20 00:00:00'), Timestamp('2023-03-21 00:00:00'), Timestamp('2023-03-22 00:00:00'), Timestamp('2023-03-23 00:00:00'), Timestamp('2023-03-24 00:00:00'), Timestamp('2023-03-25 00:00:00'), Timestamp('2023-03-26 00:00:00'), Timestamp('2023-03-27 00:00:00'), Timestamp('2023-03-28 00:00:00'), Timestamp('2023-03-29 00:00:00'), Timestamp('2023-03-30 00:00:00'), Timestamp('2023-03-31 00:00:00'), Timestamp('2023-04-01 00:00:00'), Timestamp('2023-04-02 00:00:00'), Timestamp('2023-04-03 00:00:00'), Timestamp('2023-04-04 00:00:00'), Timestamp('2023-04-05 00:00:00'), Timestamp('2023-04-06 00:00:00'), Timestamp('2023-04-07 00:00:00'), Timestamp('2023-04-08 00:00:00'), Timestamp('2023-04-09 00:00:00'), Timestamp('2023-04-10 00:00:00'), Timestamp('2023-04-11 00:00:00'), Timestamp('2023-04-12 00:00:00'), Timestamp('2023-04-13 00:00:00'), Timestamp('2023-04-14 00:00:00'), Timestamp('2023-04-15 00:00:00'), Timestamp('2023-04-16 00:00:00'), Timestamp('2023-04-17 00:00:00'), Timestamp('2023-04-18 00:00:00'), Timestamp('2023-04-19 00:00:00'), Timestamp('2023-04-20 00:00:00'), Timestamp('2023-04-21 00:00:00'), Timestamp('2023-04-22 00:00:00'), Timestamp('2023-04-23 00:00:00'), Timestamp('2023-04-24 00:00:00'), Timestamp('2023-04-25 00:00:00'), Timestamp('2023-04-26 00:00:00'), Timestamp('2023-04-27 00:00:00'), Timestamp('2023-04-28 00:00:00'), Timestamp('2023-04-29 00:00:00'), Timestamp('2023-04-30 00:00:00'), Timestamp('2023-05-01 00:00:00'), Timestamp('2023-05-02 00:00:00'), Timestamp('2023-05-03 00:00:00'), Timestamp('2023-05-04 00:00:00'), Timestamp('2023-05-05 00:00:00'), Timestamp('2023-05-06 00:00:00'), Timestamp('2023-05-07 00:00:00'), Timestamp('2023-05-08 00:00:00'), Timestamp('2023-05-09 00:00:00'), Timestamp('2023-05-10 00:00:00'), Timestamp('2023-05-11 00:00:00'), Timestamp('2023-05-12 00:00:00'), Timestamp('2023-05-13 00:00:00'), Timestamp('2023-05-14 00:00:00'), Timestamp('2023-05-15 00:00:00'), Timestamp('2023-05-16 00:00:00'), Timestamp('2023-05-17 00:00:00'), Timestamp('2023-05-18 00:00:00'), Timestamp('2023-05-19 00:00:00'), Timestamp('2023-05-20 00:00:00'), Timestamp('2023-05-21 00:00:00'), Timestamp('2023-05-22 00:00:00'), Timestamp('2023-05-23 00:00:00'), Timestamp('2023-05-24 00:00:00'), Timestamp('2023-05-25 00:00:00'), Timestamp('2023-05-26 00:00:00'), Timestamp('2023-05-27 00:00:00'), Timestamp('2023-05-28 00:00:00'), Timestamp('2023-05-29 00:00:00'), Timestamp('2023-05-30 00:00:00'), Timestamp('2023-05-31 00:00:00'), Timestamp('2023-06-01 00:00:00'), Timestamp('2023-06-02 00:00:00'), Timestamp('2023-06-03 00:00:00'), Timestamp('2023-06-04 00:00:00'), Timestamp('2023-06-05 00:00:00'), Timestamp('2023-06-06 00:00:00'), Timestamp('2023-06-07 00:00:00'), Timestamp('2023-06-08 00:00:00'), Timestamp('2023-06-09 00:00:00'), Timestamp('2023-06-10 00:00:00'), Timestamp('2023-06-11 00:00:00'), Timestamp('2023-06-12 00:00:00'), Timestamp('2023-06-13 00:00:00'), Timestamp('2023-06-14 00:00:00'), Timestamp('2023-06-15 00:00:00'), Timestamp('2023-06-16 00:00:00'), Timestamp('2023-06-17 00:00:00'), Timestamp('2023-06-18 00:00:00'), Timestamp('2023-06-19 00:00:00'), Timestamp('2023-06-20 00:00:00'), Timestamp('2023-06-21 00:00:00'), Timestamp('2023-06-22 00:00:00'), Timestamp('2023-06-23 00:00:00'), Timestamp('2023-06-24 00:00:00'), Timestamp('2023-06-25 00:00:00'), Timestamp('2023-06-26 00:00:00'), Timestamp('2023-06-27 00:00:00'), Timestamp('2023-06-28 00:00:00'), Timestamp('2023-06-29 00:00:00'), Timestamp('2023-06-30 00:00:00'), Timestamp('2023-07-01 00:00:00'), Timestamp('2023-07-02 00:00:00'), Timestamp('2023-07-03 00:00:00'), Timestamp('2023-07-04 00:00:00'), Timestamp('2023-07-05 00:00:00'), Timestamp('2023-07-06 00:00:00'), Timestamp('2023-07-07 00:00:00'), Timestamp('2023-07-08 00:00:00'), Timestamp('2023-07-09 00:00:00'), Timestamp('2023-07-10 00:00:00'), Timestamp('2023-07-11 00:00:00'), Timestamp('2023-07-12 00:00:00'), Timestamp('2023-07-13 00:00:00'), Timestamp('2023-07-14 00:00:00'), Timestamp('2023-07-15 00:00:00'), Timestamp('2023-07-16 00:00:00'), Timestamp('2023-07-17 00:00:00'), Timestamp('2023-07-18 00:00:00'), Timestamp('2023-07-19 00:00:00'), Timestamp('2023-07-20 00:00:00'), Timestamp('2023-07-21 00:00:00'), Timestamp('2023-07-22 00:00:00'), Timestamp('2023-07-23 00:00:00'), Timestamp('2023-07-24 00:00:00'), Timestamp('2023-07-25 00:00:00'), Timestamp('2023-07-26 00:00:00'), Timestamp('2023-07-27 00:00:00'), Timestamp('2023-07-28 00:00:00'), Timestamp('2023-07-29 00:00:00'), Timestamp('2023-07-30 00:00:00'), Timestamp('2023-07-31 00:00:00'), Timestamp('2023-08-01 00:00:00'), Timestamp('2023-08-02 00:00:00'), Timestamp('2023-08-03 00:00:00'), Timestamp('2023-08-04 00:00:00'), Timestamp('2023-08-05 00:00:00'), Timestamp('2023-08-06 00:00:00'), Timestamp('2023-08-07 00:00:00'), Timestamp('2023-08-08 00:00:00'), Timestamp('2023-08-09 00:00:00'), Timestamp('2023-08-10 00:00:00'), Timestamp('2023-08-11 00:00:00'), Timestamp('2023-08-12 00:00:00'), Timestamp('2023-08-13 00:00:00'), Timestamp('2023-08-14 00:00:00'), Timestamp('2023-08-15 00:00:00'), Timestamp('2023-08-16 00:00:00'), Timestamp('2023-08-17 00:00:00'), Timestamp('2023-08-18 00:00:00'), Timestamp('2023-08-19 00:00:00'), Timestamp('2023-08-20 00:00:00'), Timestamp('2023-08-21 00:00:00'), Timestamp('2023-08-22 00:00:00'), Timestamp('2023-08-23 00:00:00'), Timestamp('2023-08-24 00:00:00'), Timestamp('2023-08-25 00:00:00'), Timestamp('2023-08-26 00:00:00'), Timestamp('2023-08-27 00:00:00'), Timestamp('2023-08-28 00:00:00'), Timestamp('2023-08-29 00:00:00'), Timestamp('2023-08-30 00:00:00'), Timestamp('2023-08-31 00:00:00'), Timestamp('2023-09-01 00:00:00'), Timestamp('2023-09-02 00:00:00'), Timestamp('2023-09-03 00:00:00'), Timestamp('2023-09-04 00:00:00'), Timestamp('2023-09-05 00:00:00'), Timestamp('2023-09-06 00:00:00'), Timestamp('2023-09-07 00:00:00'), Timestamp('2023-09-08 00:00:00'), Timestamp('2023-09-09 00:00:00'), Timestamp('2023-09-10 00:00:00'), Timestamp('2023-09-11 00:00:00'), Timestamp('2023-09-12 00:00:00'), Timestamp('2023-09-13 00:00:00'), Timestamp('2023-09-14 00:00:00'), Timestamp('2023-09-15 00:00:00'), Timestamp('2023-09-16 00:00:00'), Timestamp('2023-09-17 00:00:00'), Timestamp('2023-09-18 00:00:00'), Timestamp('2023-09-19 00:00:00'), Timestamp('2023-09-20 00:00:00'), Timestamp('2023-09-21 00:00:00'), Timestamp('2023-09-22 00:00:00'), Timestamp('2023-09-23 00:00:00'), Timestamp('2023-09-24 00:00:00'), Timestamp('2023-09-25 00:00:00'), Timestamp('2023-09-26 00:00:00'), Timestamp('2023-09-27 00:00:00'), Timestamp('2023-09-28 00:00:00'), Timestamp('2023-09-29 00:00:00'), Timestamp('2023-09-30 00:00:00'), Timestamp('2023-10-01 00:00:00'), Timestamp('2023-10-02 00:00:00'), Timestamp('2023-10-03 00:00:00'), Timestamp('2023-10-04 00:00:00'), Timestamp('2023-10-05 00:00:00'), Timestamp('2023-10-06 00:00:00'), Timestamp('2023-10-07 00:00:00'), Timestamp('2023-10-08 00:00:00'), Timestamp('2023-10-09 00:00:00'), Timestamp('2023-10-10 00:00:00'), Timestamp('2023-10-11 00:00:00'), Timestamp('2023-10-12 00:00:00'), Timestamp('2023-10-13 00:00:00'), Timestamp('2023-10-14 00:00:00'), Timestamp('2023-10-15 00:00:00'), Timestamp('2023-10-16 00:00:00'), Timestamp('2023-10-17 00:00:00'), Timestamp('2023-10-18 00:00:00'), Timestamp('2023-10-19 00:00:00'), Timestamp('2023-10-20 00:00:00'), Timestamp('2023-10-21 00:00:00'), Timestamp('2023-10-22 00:00:00'), Timestamp('2023-10-23 00:00:00'), Timestamp('2023-10-24 00:00:00'), Timestamp('2023-10-25 00:00:00'), Timestamp('2023-10-26 00:00:00'), Timestamp('2023-10-27 00:00:00'), Timestamp('2023-10-28 00:00:00'), Timestamp('2023-10-29 00:00:00'), Timestamp('2023-10-30 00:00:00'), Timestamp('2023-10-31 00:00:00'), Timestamp('2023-11-01 00:00:00'), Timestamp('2023-11-02 00:00:00'), Timestamp('2023-11-03 00:00:00'), Timestamp('2023-11-04 00:00:00'), Timestamp('2023-11-05 00:00:00'), Timestamp('2023-11-06 00:00:00'), Timestamp('2023-11-07 00:00:00'), Timestamp('2023-11-08 00:00:00'), Timestamp('2023-11-09 00:00:00'), Timestamp('2023-11-10 00:00:00'), Timestamp('2023-11-11 00:00:00'), Timestamp('2023-11-12 00:00:00'), Timestamp('2023-11-13 00:00:00'), Timestamp('2023-11-14 00:00:00'), Timestamp('2023-11-15 00:00:00'), Timestamp('2023-11-16 00:00:00'), Timestamp('2023-11-17 00:00:00'), Timestamp('2023-11-18 00:00:00'), Timestamp('2023-11-19 00:00:00'), Timestamp('2023-11-20 00:00:00'), Timestamp('2023-11-21 00:00:00'), Timestamp('2023-11-22 00:00:00'), Timestamp('2023-11-23 00:00:00'), Timestamp('2023-11-24 00:00:00'), Timestamp('2023-11-25 00:00:00'), Timestamp('2023-11-26 00:00:00'), Timestamp('2023-11-27 00:00:00'), Timestamp('2023-11-28 00:00:00'), Timestamp('2023-11-29 00:00:00'), Timestamp('2023-11-30 00:00:00'), Timestamp('2023-12-01 00:00:00'), Timestamp('2023-12-02 00:00:00'), Timestamp('2023-12-03 00:00:00'), Timestamp('2023-12-04 00:00:00'), Timestamp('2023-12-05 00:00:00'), Timestamp('2023-12-06 00:00:00'), Timestamp('2023-12-07 00:00:00'), Timestamp('2023-12-08 00:00:00'), Timestamp('2023-12-09 00:00:00'), Timestamp('2023-12-10 00:00:00'), Timestamp('2023-12-11 00:00:00'), Timestamp('2023-12-12 00:00:00'), Timestamp('2023-12-13 00:00:00'), Timestamp('2023-12-14 00:00:00'), Timestamp('2023-12-15 00:00:00'), Timestamp('2023-12-16 00:00:00'), Timestamp('2023-12-17 00:00:00'), Timestamp('2023-12-18 00:00:00'), Timestamp('2023-12-19 00:00:00'), Timestamp('2023-12-20 00:00:00'), Timestamp('2023-12-21 00:00:00'), Timestamp('2023-12-22 00:00:00'), Timestamp('2023-12-23 00:00:00'), Timestamp('2023-12-24 00:00:00'), Timestamp('2023-12-25 00:00:00'), Timestamp('2023-12-26 00:00:00'), Timestamp('2023-12-27 00:00:00'), Timestamp('2023-12-28 00:00:00'), Timestamp('2023-12-29 00:00:00'), Timestamp('2023-12-30 00:00:00'), Timestamp('2023-12-31 00:00:00')]\n"
     ]
    }
   ],
   "source": [
    "n_past = 1\n",
    "n_days_for_prediction=366\n",
    "predict_period_dates = pd.date_range(list(train_dates)[-n_past], periods=n_days_for_prediction, freq='1d').tolist()\n",
    "print(predict_period_dates)"
   ]
  },
  {
   "cell_type": "code",
   "execution_count": null,
   "metadata": {},
   "outputs": [
    {
     "name": "stdout",
     "output_type": "stream",
     "text": [
      "12/12 [==============================] - 1s 27ms/step\n"
     ]
    }
   ],
   "source": [
    "prediction = model.predict(X_training[-n_days_for_prediction:])"
   ]
  },
  {
   "cell_type": "code",
   "execution_count": null,
   "metadata": {},
   "outputs": [
    {
     "name": "stdout",
     "output_type": "stream",
     "text": [
      "[[ 5.45992367e-02]\n",
      " [-9.47407335e-02]\n",
      " [ 1.01609811e-01]\n",
      " [-4.54705469e-02]\n",
      " [ 9.31413174e-02]\n",
      " [ 6.75216317e-03]\n",
      " [ 7.84108192e-02]\n",
      " [ 5.97423688e-02]\n",
      " [-1.55816615e-01]\n",
      " [ 1.55500695e-03]\n",
      " [ 7.06236064e-02]\n",
      " [-4.00791802e-02]\n",
      " [-2.01642483e-01]\n",
      " [ 6.04233444e-02]\n",
      " [ 5.29828817e-02]\n",
      " [ 5.23268208e-02]\n",
      " [ 1.02561057e-01]\n",
      " [ 6.88395202e-02]\n",
      " [ 2.31839214e-02]\n",
      " [-1.30106628e-01]\n",
      " [ 8.01900178e-02]\n",
      " [-3.05660814e-02]\n",
      " [ 1.13301560e-01]\n",
      " [-1.77374527e-01]\n",
      " [ 5.34495711e-02]\n",
      " [-3.35431136e-02]\n",
      " [ 3.86120677e-02]\n",
      " [ 4.80385795e-02]\n",
      " [-6.31212592e-02]\n",
      " [ 1.71865188e-02]\n",
      " [-1.02024689e-01]\n",
      " [ 7.62006864e-02]\n",
      " [-1.61411911e-02]\n",
      " [ 9.16812867e-02]\n",
      " [ 9.88079906e-02]\n",
      " [ 6.57397285e-02]\n",
      " [ 4.74058427e-02]\n",
      " [ 2.68981047e-02]\n",
      " [ 8.72094482e-02]\n",
      " [ 6.97273090e-02]\n",
      " [-1.51624382e-01]\n",
      " [ 3.41199003e-02]\n",
      " [ 7.54192024e-02]\n",
      " [ 6.94706440e-02]\n",
      " [-7.71815628e-02]\n",
      " [ 1.00727975e-01]\n",
      " [ 4.07515094e-04]\n",
      " [ 6.56788349e-02]\n",
      " [ 3.15372832e-02]\n",
      " [ 1.97504032e-02]\n",
      " [-1.60604715e-02]\n",
      " [ 7.13780895e-02]\n",
      " [ 4.31528762e-02]\n",
      " [ 6.55940771e-02]\n",
      " [ 5.27539030e-02]\n",
      " [ 6.78610057e-02]\n",
      " [ 6.22240975e-02]\n",
      " [-9.20860618e-02]\n",
      " [-3.38855125e-02]\n",
      " [ 9.17078368e-03]\n",
      " [ 7.38436431e-02]\n",
      " [ 2.64220890e-02]\n",
      " [ 6.42199367e-02]\n",
      " [ 3.88972014e-02]\n",
      " [ 2.15918757e-03]\n",
      " [ 5.02816439e-02]\n",
      " [ 7.72262663e-02]\n",
      " [ 9.64062363e-02]\n",
      " [ 5.63641936e-02]\n",
      " [ 3.03838085e-02]\n",
      " [ 3.59341465e-02]\n",
      " [-1.56820774e-01]\n",
      " [ 6.03083521e-02]\n",
      " [ 8.85751694e-02]\n",
      " [ 7.41349757e-02]\n",
      " [-3.65691669e-02]\n",
      " [ 3.26565728e-02]\n",
      " [-1.74106807e-01]\n",
      " [-1.74068600e-01]\n",
      " [ 8.33727121e-02]\n",
      " [ 3.76348123e-02]\n",
      " [-1.16028234e-01]\n",
      " [ 1.15236744e-01]\n",
      " [ 4.18109410e-02]\n",
      " [-1.51648179e-01]\n",
      " [-5.08386083e-02]\n",
      " [ 8.32800865e-02]\n",
      " [ 3.73654664e-02]\n",
      " [ 5.77915385e-02]\n",
      " [ 2.53091156e-02]\n",
      " [ 1.20587721e-02]\n",
      " [ 9.06123221e-02]\n",
      " [ 7.47053549e-02]\n",
      " [ 6.20383918e-02]\n",
      " [-1.58451200e-02]\n",
      " [-3.22987586e-01]\n",
      " [-7.64624029e-02]\n",
      " [ 4.34626751e-02]\n",
      " [-7.40185380e-04]\n",
      " [ 3.02539244e-02]\n",
      " [ 1.20747611e-01]\n",
      " [ 8.92333835e-02]\n",
      " [ 1.02899417e-01]\n",
      " [ 7.42159970e-03]\n",
      " [ 6.04193546e-02]\n",
      " [ 5.99542372e-02]\n",
      " [ 6.34054542e-02]\n",
      " [ 7.41935447e-02]\n",
      " [ 3.24640088e-02]\n",
      " [ 7.45756924e-02]\n",
      " [ 1.34336233e-01]\n",
      " [-2.06526130e-01]\n",
      " [ 2.20461115e-02]\n",
      " [-4.83641289e-02]\n",
      " [ 7.80218244e-02]\n",
      " [ 6.95965588e-02]\n",
      " [ 8.36181045e-02]\n",
      " [-3.96322832e-03]\n",
      " [ 1.13709629e-01]\n",
      " [-6.93885088e-02]\n",
      " [ 4.76024374e-02]\n",
      " [ 1.08877018e-01]\n",
      " [ 9.20317322e-02]\n",
      " [ 1.21722259e-02]\n",
      " [ 5.43971136e-02]\n",
      " [ 6.62728250e-02]\n",
      " [ 3.19953039e-02]\n",
      " [-1.04620606e-02]\n",
      " [ 6.75954670e-02]\n",
      " [ 4.38338034e-02]\n",
      " [-1.68239191e-01]\n",
      " [ 6.68102726e-02]\n",
      " [-9.35878605e-02]\n",
      " [ 5.63640445e-02]\n",
      " [ 6.51769191e-02]\n",
      " [-1.18650287e-01]\n",
      " [ 6.42408431e-02]\n",
      " [ 6.00205883e-02]\n",
      " [ 6.57765046e-02]\n",
      " [-1.55378580e-01]\n",
      " [ 4.61654514e-02]\n",
      " [ 1.74813885e-02]\n",
      " [ 4.71588895e-02]\n",
      " [ 7.63542354e-02]\n",
      " [ 7.91441947e-02]\n",
      " [ 6.31234795e-02]\n",
      " [ 9.42796618e-02]\n",
      " [ 6.02125674e-02]\n",
      " [ 7.33973235e-02]\n",
      " [ 4.72238474e-02]\n",
      " [ 3.53038386e-02]\n",
      " [ 6.45483732e-02]\n",
      " [-1.19109258e-01]\n",
      " [ 5.95078543e-02]\n",
      " [ 3.56218964e-02]\n",
      " [-1.66399598e-01]\n",
      " [ 5.65536618e-02]\n",
      " [ 1.04642898e-01]\n",
      " [ 7.55817890e-02]\n",
      " [ 9.02872384e-02]\n",
      " [ 7.74368495e-02]\n",
      " [ 6.70310408e-02]\n",
      " [-1.40464097e-01]\n",
      " [ 2.05741636e-02]\n",
      " [ 1.19434312e-01]\n",
      " [ 4.27239537e-02]\n",
      " [ 7.27372989e-03]\n",
      " [ 5.44960946e-02]\n",
      " [ 6.47643059e-02]\n",
      " [ 9.34267603e-03]\n",
      " [ 6.18890785e-02]\n",
      " [ 7.65643045e-02]\n",
      " [ 7.00591579e-02]\n",
      " [-1.67690828e-01]\n",
      " [ 4.09632288e-02]\n",
      " [-1.30252838e-01]\n",
      " [-1.54733777e-01]\n",
      " [ 8.19490850e-02]\n",
      " [ 1.91760082e-02]\n",
      " [ 3.32521200e-02]\n",
      " [ 3.22489887e-02]\n",
      " [ 5.54954186e-02]\n",
      " [ 1.15894556e-01]\n",
      " [ 6.25126585e-02]\n",
      " [-1.64775655e-01]\n",
      " [ 6.67443126e-02]\n",
      " [-8.12858343e-05]\n",
      " [-4.71902825e-02]\n",
      " [ 4.09686938e-02]\n",
      " [-2.18606949e-01]\n",
      " [ 1.02779225e-01]\n",
      " [ 5.82455657e-03]\n",
      " [ 6.08579107e-02]\n",
      " [ 4.11101691e-02]\n",
      " [ 7.28501081e-02]\n",
      " [ 5.36049902e-02]\n",
      " [-1.72569349e-01]\n",
      " [ 2.70677321e-02]\n",
      " [ 4.00608629e-02]\n",
      " [-1.29872292e-01]\n",
      " [ 8.94073397e-04]\n",
      " [-1.16568491e-01]\n",
      " [ 3.46236974e-02]\n",
      " [-1.79171205e-01]\n",
      " [-2.01397717e-01]\n",
      " [ 2.83150636e-02]\n",
      " [-1.59166172e-01]\n",
      " [ 5.20624444e-02]\n",
      " [-8.23385864e-02]\n",
      " [ 2.61496566e-03]\n",
      " [-9.44133103e-03]\n",
      " [-2.04441577e-01]\n",
      " [-1.38092518e-01]\n",
      " [-2.62855329e-02]\n",
      " [-3.35491784e-02]\n",
      " [ 5.06370366e-02]\n",
      " [ 4.87289429e-02]\n",
      " [ 4.15495187e-02]\n",
      " [-1.03458807e-01]\n",
      " [ 6.27151430e-02]\n",
      " [ 6.83166981e-02]\n",
      " [-3.82146202e-02]\n",
      " [ 5.37945665e-02]\n",
      " [-1.07481271e-01]\n",
      " [ 8.59929845e-02]\n",
      " [ 5.31446375e-02]\n",
      " [ 2.54180152e-02]\n",
      " [ 6.50991499e-02]\n",
      " [ 6.79814741e-02]\n",
      " [-1.12234637e-01]\n",
      " [ 7.25340694e-02]\n",
      " [ 8.91374573e-02]\n",
      " [-2.27297246e-02]\n",
      " [ 5.79577386e-02]\n",
      " [ 9.43762064e-02]\n",
      " [ 7.49655217e-02]\n",
      " [ 7.44972080e-02]\n",
      " [ 3.70053016e-02]\n",
      " [ 1.26449227e-01]\n",
      " [-9.72749442e-02]\n",
      " [ 7.34931529e-02]\n",
      " [ 1.43931694e-02]\n",
      " [-1.45220712e-01]\n",
      " [ 7.47046098e-02]\n",
      " [ 9.05969925e-03]\n",
      " [ 9.73203927e-02]\n",
      " [ 8.82408917e-02]\n",
      " [ 7.82791525e-02]\n",
      " [ 5.26743308e-02]\n",
      " [ 8.38654041e-02]\n",
      " [ 1.53739955e-02]\n",
      " [ 7.80754983e-02]\n",
      " [ 6.53341115e-02]\n",
      " [-1.47012696e-01]\n",
      " [ 6.74208105e-02]\n",
      " [ 5.04466183e-02]\n",
      " [ 5.33116981e-02]\n",
      " [ 7.02214241e-02]\n",
      " [ 1.10925481e-01]\n",
      " [ 1.02230310e-02]\n",
      " [-5.95895946e-03]\n",
      " [-4.77149971e-02]\n",
      " [ 6.24447204e-02]\n",
      " [ 7.62801021e-02]\n",
      " [ 8.41680244e-02]\n",
      " [ 1.21904388e-01]\n",
      " [ 1.84610784e-02]\n",
      " [ 1.80922560e-02]\n",
      " [ 8.64971131e-02]\n",
      " [ 7.51855671e-02]\n",
      " [-7.75288492e-02]\n",
      " [-1.63790256e-01]\n",
      " [-2.50222772e-01]\n",
      " [ 1.26462020e-02]\n",
      " [ 7.67803490e-02]\n",
      " [ 4.26533036e-02]\n",
      " [ 3.51810828e-02]\n",
      " [ 5.36807850e-02]\n",
      " [ 8.16553235e-02]\n",
      " [-1.96832374e-01]\n",
      " [ 5.93230277e-02]\n",
      " [-2.63198465e-01]\n",
      " [ 4.29012068e-03]\n",
      " [-1.01985678e-01]\n",
      " [ 6.14188612e-02]\n",
      " [ 6.53984845e-02]\n",
      " [-1.48532242e-02]\n",
      " [ 1.31011426e-01]\n",
      " [ 2.17089485e-02]\n",
      " [ 4.99310829e-02]\n",
      " [ 9.28525180e-02]\n",
      " [-4.84879129e-02]\n",
      " [ 5.13642244e-02]\n",
      " [-1.47055775e-01]\n",
      " [ 5.74609675e-02]\n",
      " [-5.18444069e-02]\n",
      " [ 3.64809483e-02]\n",
      " [ 2.35068798e-02]\n",
      " [ 9.96583551e-02]\n",
      " [ 1.06603682e-01]\n",
      " [-3.18389758e-03]\n",
      " [-8.27796906e-02]\n",
      " [ 8.12522471e-02]\n",
      " [-2.36277580e-02]\n",
      " [ 6.07947931e-02]\n",
      " [-1.01423502e-01]\n",
      " [ 5.75879440e-02]\n",
      " [ 7.10252076e-02]\n",
      " [-1.66971833e-01]\n",
      " [ 1.49492845e-02]\n",
      " [ 6.67547435e-02]\n",
      " [-1.04300335e-01]\n",
      " [ 5.71167320e-02]\n",
      " [ 6.95112273e-02]\n",
      " [-1.27077430e-01]\n",
      " [ 3.17076221e-02]\n",
      " [ 6.85689896e-02]\n",
      " [-8.08840990e-02]\n",
      " [ 3.92945744e-02]\n",
      " [-1.90376461e-01]\n",
      " [-1.40893683e-01]\n",
      " [ 5.79091087e-02]\n",
      " [-6.05047606e-02]\n",
      " [ 4.89345379e-02]\n",
      " [ 6.38377219e-02]\n",
      " [-4.77480255e-02]\n",
      " [ 8.08745623e-02]\n",
      " [ 9.30452496e-02]\n",
      " [ 7.58291781e-02]\n",
      " [ 7.54095912e-02]\n",
      " [ 4.66654412e-02]\n",
      " [-1.29215389e-01]\n",
      " [ 5.78769892e-02]\n",
      " [-4.68786806e-04]\n",
      " [ 7.02801049e-02]\n",
      " [ 4.84641120e-02]\n",
      " [ 6.22878373e-02]\n",
      " [ 4.75780703e-02]\n",
      " [ 6.77740425e-02]\n",
      " [ 6.52705133e-02]\n",
      " [ 3.11184414e-02]\n",
      " [ 2.22867057e-02]\n",
      " [-2.02571169e-01]\n",
      " [ 6.25002831e-02]\n",
      " [ 7.29779750e-02]\n",
      " [-1.78938597e-01]\n",
      " [ 7.40213245e-02]\n",
      " [ 8.38277489e-02]\n",
      " [ 9.32631791e-02]\n",
      " [ 7.28115886e-02]\n",
      " [ 4.67786267e-02]\n",
      " [ 2.84866281e-02]\n",
      " [ 5.28194532e-02]\n",
      " [ 6.83164075e-02]\n",
      " [ 1.14342615e-01]\n",
      " [ 7.29207695e-02]\n",
      " [ 5.10886461e-02]\n",
      " [-2.48565465e-01]\n",
      " [ 6.77647069e-02]\n",
      " [ 6.18009716e-02]\n",
      " [ 1.05552778e-01]\n",
      " [ 9.86735523e-02]\n",
      " [ 6.33306205e-02]\n",
      " [-2.87039578e-02]\n",
      " [-3.27471979e-02]\n",
      " [ 7.81723112e-02]]\n"
     ]
    }
   ],
   "source": [
    "print(prediction)"
   ]
  },
  {
   "cell_type": "code",
   "execution_count": null,
   "metadata": {},
   "outputs": [],
   "source": [
    "prediction_copies = np.repeat(prediction, data_for_training.shape[1], axis=-1)\n",
    "y_pred_future = scaler.inverse_transform(prediction_copies)[:,-1]\n",
    "y_pred_future = np.abs(y_pred_future)"
   ]
  },
  {
   "cell_type": "code",
   "execution_count": null,
   "metadata": {},
   "outputs": [
    {
     "name": "stderr",
     "output_type": "stream",
     "text": [
      "C:\\Users\\wajit\\AppData\\Local\\Temp\\ipykernel_3408\\3345504534.py:10: SettingWithCopyWarning: \n",
      "A value is trying to be set on a copy of a slice from a DataFrame.\n",
      "Try using .loc[row_indexer,col_indexer] = value instead\n",
      "\n",
      "See the caveats in the documentation: https://pandas.pydata.org/pandas-docs/stable/user_guide/indexing.html#returning-a-view-versus-a-copy\n",
      "  original['Tanggal']=pd.to_datetime(original['Tanggal'])\n"
     ]
    },
    {
     "data": {
      "text/plain": [
       "<Axes: xlabel='Tanggal', ylabel='Magnitude'>"
      ]
     },
     "execution_count": 496,
     "metadata": {},
     "output_type": "execute_result"
    },
    {
     "data": {
      "image/png": "[encoded data removed]",
      "text/plain": [
       "<Figure size 640x480 with 1 Axes>"
      ]
     },
     "metadata": {},
     "output_type": "display_data"
    }
   ],
   "source": [
    "forecast_dates = []\n",
    "for time_i in predict_period_dates:\n",
    "    forecast_dates.append(time_i.date())\n",
    "    \n",
    "df_forecast = pd.DataFrame({'Tanggal': np.array(forecast_dates), 'Magnitude': y_pred_future})\n",
    "df_forecast['Tanggal'] = pd.to_datetime(df_forecast['Tanggal'])\n",
    "\n",
    "\n",
    "original = data[['Tanggal', 'Magnitude']]\n",
    "original['Tanggal']=pd.to_datetime(original['Tanggal'])\n",
    "original = original.loc[original['Tanggal'] >= '2022-12-1']\n",
    "\n",
    "sns.lineplot(x=original['Tanggal'], y=original['Magnitude'])\n",
    "sns.lineplot(x=df_forecast['Tanggal'], y=df_forecast['Magnitude'])"
   ]
  },
  {
   "cell_type": "code",
   "execution_count": null,
   "metadata": {},
   "outputs": [
    {
     "data": {
      "image/png": "[encoded data removed]",
      "text/plain": [
       "<Figure size 640x480 with 1 Axes>"
      ]
     },
     "metadata": {},
     "output_type": "display_data"
    }
   ],
   "source": [
    "plt.plot(history.history['loss'])\n",
    "plt.plot(history.history['val_loss'])\n",
    "plt.title('Model Loss')\n",
    "plt.ylabel('Loss')\n",
    "plt.xlabel('Epoch')\n",
    "plt.legend(['Train', 'Validation'], loc='upper right')\n",
    "plt.show()"
   ]
  },
  {
   "cell_type": "code",
   "execution_count": null,
   "metadata": {},
   "outputs": [
    {
     "name": "stdout",
     "output_type": "stream",
     "text": [
      "[[ 0.05459924  0.05459924  0.05459924  0.05459924]\n",
      " [-0.09474073 -0.09474073 -0.09474073 -0.09474073]\n",
      " [ 0.10160981  0.10160981  0.10160981  0.10160981]\n",
      " ...\n",
      " [-0.02870396 -0.02870396 -0.02870396 -0.02870396]\n",
      " [-0.0327472  -0.0327472  -0.0327472  -0.0327472 ]\n",
      " [ 0.07817231  0.07817231  0.07817231  0.07817231]]\n"
     ]
    }
   ],
   "source": [
    "print(prediction_copies)"
   ]
  },
  {
   "cell_type": "code",
   "execution_count": null,
   "metadata": {},
   "outputs": [],
   "source": []
  }
 ],
 "metadata": {
  "kernelspec": {
   "display_name": "Python 3",
   "language": "python",
   "name": "python3"
  },
  "language_info": {
   "codemirror_mode": {
    "name": "ipython",
    "version": 3
   },
   "file_extension": ".py",
   "mimetype": "text/x-python",
   "name": "python",
   "nbconvert_exporter": "python",
   "pygments_lexer": "ipython3",
   "version": "3.11.2"
  },
  "orig_nbformat": 4
 },
 "nbformat": 4,
 "nbformat_minor": 2
}
